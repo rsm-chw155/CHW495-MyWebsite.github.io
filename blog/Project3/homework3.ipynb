{
 "cells": [
  {
   "cell_type": "code",
   "execution_count": 1,
   "metadata": {},
   "outputs": [
    {
     "data": {
      "application/vnd.microsoft.datawrangler.viewer.v0+json": {
       "columns": [
        {
         "name": "index",
         "rawType": "int64",
         "type": "integer"
        },
        {
         "name": "resp",
         "rawType": "int64",
         "type": "integer"
        },
        {
         "name": "task",
         "rawType": "int64",
         "type": "integer"
        },
        {
         "name": "choice",
         "rawType": "int64",
         "type": "integer"
        },
        {
         "name": "brand",
         "rawType": "object",
         "type": "string"
        },
        {
         "name": "ad",
         "rawType": "object",
         "type": "string"
        },
        {
         "name": "price",
         "rawType": "int64",
         "type": "integer"
        }
       ],
       "ref": "5d09c29d-264c-4140-9dd7-244329721157",
       "rows": [
        [
         "0",
         "1",
         "1",
         "1",
         "N",
         "Yes",
         "28"
        ],
        [
         "1",
         "1",
         "1",
         "0",
         "H",
         "Yes",
         "16"
        ],
        [
         "2",
         "1",
         "1",
         "0",
         "P",
         "Yes",
         "16"
        ],
        [
         "3",
         "1",
         "2",
         "0",
         "N",
         "Yes",
         "32"
        ],
        [
         "4",
         "1",
         "2",
         "1",
         "P",
         "Yes",
         "16"
        ]
       ],
       "shape": {
        "columns": 6,
        "rows": 5
       }
      },
      "text/html": [
       "<div>\n",
       "<style scoped>\n",
       "    .dataframe tbody tr th:only-of-type {\n",
       "        vertical-align: middle;\n",
       "    }\n",
       "\n",
       "    .dataframe tbody tr th {\n",
       "        vertical-align: top;\n",
       "    }\n",
       "\n",
       "    .dataframe thead th {\n",
       "        text-align: right;\n",
       "    }\n",
       "</style>\n",
       "<table border=\"1\" class=\"dataframe\">\n",
       "  <thead>\n",
       "    <tr style=\"text-align: right;\">\n",
       "      <th></th>\n",
       "      <th>resp</th>\n",
       "      <th>task</th>\n",
       "      <th>choice</th>\n",
       "      <th>brand</th>\n",
       "      <th>ad</th>\n",
       "      <th>price</th>\n",
       "    </tr>\n",
       "  </thead>\n",
       "  <tbody>\n",
       "    <tr>\n",
       "      <th>0</th>\n",
       "      <td>1</td>\n",
       "      <td>1</td>\n",
       "      <td>1</td>\n",
       "      <td>N</td>\n",
       "      <td>Yes</td>\n",
       "      <td>28</td>\n",
       "    </tr>\n",
       "    <tr>\n",
       "      <th>1</th>\n",
       "      <td>1</td>\n",
       "      <td>1</td>\n",
       "      <td>0</td>\n",
       "      <td>H</td>\n",
       "      <td>Yes</td>\n",
       "      <td>16</td>\n",
       "    </tr>\n",
       "    <tr>\n",
       "      <th>2</th>\n",
       "      <td>1</td>\n",
       "      <td>1</td>\n",
       "      <td>0</td>\n",
       "      <td>P</td>\n",
       "      <td>Yes</td>\n",
       "      <td>16</td>\n",
       "    </tr>\n",
       "    <tr>\n",
       "      <th>3</th>\n",
       "      <td>1</td>\n",
       "      <td>2</td>\n",
       "      <td>0</td>\n",
       "      <td>N</td>\n",
       "      <td>Yes</td>\n",
       "      <td>32</td>\n",
       "    </tr>\n",
       "    <tr>\n",
       "      <th>4</th>\n",
       "      <td>1</td>\n",
       "      <td>2</td>\n",
       "      <td>1</td>\n",
       "      <td>P</td>\n",
       "      <td>Yes</td>\n",
       "      <td>16</td>\n",
       "    </tr>\n",
       "  </tbody>\n",
       "</table>\n",
       "</div>"
      ],
      "text/plain": [
       "   resp  task  choice brand   ad  price\n",
       "0     1     1       1     N  Yes     28\n",
       "1     1     1       0     H  Yes     16\n",
       "2     1     1       0     P  Yes     16\n",
       "3     1     2       0     N  Yes     32\n",
       "4     1     2       1     P  Yes     16"
      ]
     },
     "execution_count": 1,
     "metadata": {},
     "output_type": "execute_result"
    }
   ],
   "source": [
    "import pandas as pd\n",
    "import numpy as np\n",
    "\n",
    "df = pd.read_csv('conjoint_data.csv')\n",
    "df.head()"
   ]
  },
  {
   "cell_type": "code",
   "execution_count": 2,
   "metadata": {},
   "outputs": [
    {
     "data": {
      "application/vnd.microsoft.datawrangler.viewer.v0+json": {
       "columns": [
        {
         "name": "index",
         "rawType": "int64",
         "type": "integer"
        },
        {
         "name": "resp",
         "rawType": "int64",
         "type": "integer"
        },
        {
         "name": "task",
         "rawType": "int64",
         "type": "integer"
        },
        {
         "name": "choice",
         "rawType": "int64",
         "type": "integer"
        },
        {
         "name": "price",
         "rawType": "int64",
         "type": "integer"
        },
        {
         "name": "brand_N",
         "rawType": "bool",
         "type": "boolean"
        },
        {
         "name": "brand_P",
         "rawType": "bool",
         "type": "boolean"
        },
        {
         "name": "ad_Yes",
         "rawType": "bool",
         "type": "boolean"
        }
       ],
       "ref": "f88f24d1-11f6-4812-bbd1-8f375713202e",
       "rows": [
        [
         "0",
         "1",
         "1",
         "1",
         "28",
         "True",
         "False",
         "True"
        ],
        [
         "1",
         "1",
         "1",
         "0",
         "16",
         "False",
         "False",
         "True"
        ],
        [
         "2",
         "1",
         "1",
         "0",
         "16",
         "False",
         "True",
         "True"
        ],
        [
         "3",
         "1",
         "2",
         "0",
         "32",
         "True",
         "False",
         "True"
        ],
        [
         "4",
         "1",
         "2",
         "1",
         "16",
         "False",
         "True",
         "True"
        ],
        [
         "5",
         "1",
         "2",
         "0",
         "24",
         "True",
         "False",
         "True"
        ],
        [
         "6",
         "1",
         "3",
         "0",
         "8",
         "False",
         "True",
         "False"
        ],
        [
         "7",
         "1",
         "3",
         "1",
         "24",
         "False",
         "False",
         "True"
        ],
        [
         "8",
         "1",
         "3",
         "0",
         "24",
         "True",
         "False",
         "False"
        ],
        [
         "9",
         "1",
         "4",
         "0",
         "28",
         "False",
         "True",
         "False"
        ],
        [
         "10",
         "1",
         "4",
         "0",
         "12",
         "False",
         "True",
         "True"
        ],
        [
         "11",
         "1",
         "4",
         "1",
         "24",
         "False",
         "True",
         "True"
        ],
        [
         "12",
         "1",
         "5",
         "1",
         "20",
         "True",
         "False",
         "True"
        ],
        [
         "13",
         "1",
         "5",
         "0",
         "28",
         "False",
         "False",
         "False"
        ],
        [
         "14",
         "1",
         "5",
         "0",
         "16",
         "False",
         "True",
         "True"
        ],
        [
         "15",
         "1",
         "6",
         "1",
         "12",
         "False",
         "False",
         "False"
        ],
        [
         "16",
         "1",
         "6",
         "0",
         "16",
         "False",
         "False",
         "True"
        ],
        [
         "17",
         "1",
         "6",
         "0",
         "28",
         "False",
         "True",
         "True"
        ],
        [
         "18",
         "1",
         "7",
         "0",
         "12",
         "False",
         "False",
         "True"
        ],
        [
         "19",
         "1",
         "7",
         "1",
         "32",
         "False",
         "True",
         "False"
        ],
        [
         "20",
         "1",
         "7",
         "0",
         "12",
         "True",
         "False",
         "False"
        ],
        [
         "21",
         "1",
         "8",
         "0",
         "12",
         "True",
         "False",
         "True"
        ],
        [
         "22",
         "1",
         "8",
         "0",
         "24",
         "False",
         "False",
         "True"
        ],
        [
         "23",
         "1",
         "8",
         "1",
         "28",
         "False",
         "True",
         "True"
        ],
        [
         "24",
         "1",
         "9",
         "0",
         "24",
         "False",
         "True",
         "False"
        ],
        [
         "25",
         "1",
         "9",
         "0",
         "8",
         "False",
         "True",
         "False"
        ],
        [
         "26",
         "1",
         "9",
         "1",
         "12",
         "False",
         "True",
         "True"
        ],
        [
         "27",
         "1",
         "10",
         "1",
         "16",
         "False",
         "False",
         "False"
        ],
        [
         "28",
         "1",
         "10",
         "0",
         "28",
         "False",
         "False",
         "True"
        ],
        [
         "29",
         "1",
         "10",
         "0",
         "24",
         "False",
         "False",
         "True"
        ],
        [
         "30",
         "2",
         "1",
         "0",
         "16",
         "False",
         "False",
         "True"
        ],
        [
         "31",
         "2",
         "1",
         "1",
         "32",
         "False",
         "True",
         "False"
        ],
        [
         "32",
         "2",
         "1",
         "0",
         "24",
         "False",
         "True",
         "True"
        ],
        [
         "33",
         "2",
         "2",
         "0",
         "24",
         "False",
         "False",
         "False"
        ],
        [
         "34",
         "2",
         "2",
         "0",
         "8",
         "False",
         "False",
         "False"
        ],
        [
         "35",
         "2",
         "2",
         "1",
         "12",
         "False",
         "True",
         "True"
        ],
        [
         "36",
         "2",
         "3",
         "0",
         "28",
         "True",
         "False",
         "True"
        ],
        [
         "37",
         "2",
         "3",
         "0",
         "16",
         "False",
         "True",
         "False"
        ],
        [
         "38",
         "2",
         "3",
         "1",
         "28",
         "True",
         "False",
         "False"
        ],
        [
         "39",
         "2",
         "4",
         "0",
         "24",
         "True",
         "False",
         "True"
        ],
        [
         "40",
         "2",
         "4",
         "1",
         "20",
         "True",
         "False",
         "False"
        ],
        [
         "41",
         "2",
         "4",
         "0",
         "32",
         "False",
         "False",
         "False"
        ],
        [
         "42",
         "2",
         "5",
         "1",
         "20",
         "False",
         "True",
         "False"
        ],
        [
         "43",
         "2",
         "5",
         "0",
         "28",
         "False",
         "True",
         "False"
        ],
        [
         "44",
         "2",
         "5",
         "0",
         "32",
         "True",
         "False",
         "False"
        ],
        [
         "45",
         "2",
         "6",
         "0",
         "28",
         "True",
         "False",
         "True"
        ],
        [
         "46",
         "2",
         "6",
         "1",
         "24",
         "False",
         "False",
         "False"
        ],
        [
         "47",
         "2",
         "6",
         "0",
         "28",
         "False",
         "True",
         "False"
        ],
        [
         "48",
         "2",
         "7",
         "1",
         "12",
         "True",
         "False",
         "True"
        ],
        [
         "49",
         "2",
         "7",
         "0",
         "8",
         "False",
         "False",
         "True"
        ]
       ],
       "shape": {
        "columns": 7,
        "rows": 3000
       }
      },
      "text/html": [
       "<div>\n",
       "<style scoped>\n",
       "    .dataframe tbody tr th:only-of-type {\n",
       "        vertical-align: middle;\n",
       "    }\n",
       "\n",
       "    .dataframe tbody tr th {\n",
       "        vertical-align: top;\n",
       "    }\n",
       "\n",
       "    .dataframe thead th {\n",
       "        text-align: right;\n",
       "    }\n",
       "</style>\n",
       "<table border=\"1\" class=\"dataframe\">\n",
       "  <thead>\n",
       "    <tr style=\"text-align: right;\">\n",
       "      <th></th>\n",
       "      <th>resp</th>\n",
       "      <th>task</th>\n",
       "      <th>choice</th>\n",
       "      <th>price</th>\n",
       "      <th>brand_N</th>\n",
       "      <th>brand_P</th>\n",
       "      <th>ad_Yes</th>\n",
       "    </tr>\n",
       "  </thead>\n",
       "  <tbody>\n",
       "    <tr>\n",
       "      <th>0</th>\n",
       "      <td>1</td>\n",
       "      <td>1</td>\n",
       "      <td>1</td>\n",
       "      <td>28</td>\n",
       "      <td>True</td>\n",
       "      <td>False</td>\n",
       "      <td>True</td>\n",
       "    </tr>\n",
       "    <tr>\n",
       "      <th>1</th>\n",
       "      <td>1</td>\n",
       "      <td>1</td>\n",
       "      <td>0</td>\n",
       "      <td>16</td>\n",
       "      <td>False</td>\n",
       "      <td>False</td>\n",
       "      <td>True</td>\n",
       "    </tr>\n",
       "    <tr>\n",
       "      <th>2</th>\n",
       "      <td>1</td>\n",
       "      <td>1</td>\n",
       "      <td>0</td>\n",
       "      <td>16</td>\n",
       "      <td>False</td>\n",
       "      <td>True</td>\n",
       "      <td>True</td>\n",
       "    </tr>\n",
       "    <tr>\n",
       "      <th>3</th>\n",
       "      <td>1</td>\n",
       "      <td>2</td>\n",
       "      <td>0</td>\n",
       "      <td>32</td>\n",
       "      <td>True</td>\n",
       "      <td>False</td>\n",
       "      <td>True</td>\n",
       "    </tr>\n",
       "    <tr>\n",
       "      <th>4</th>\n",
       "      <td>1</td>\n",
       "      <td>2</td>\n",
       "      <td>1</td>\n",
       "      <td>16</td>\n",
       "      <td>False</td>\n",
       "      <td>True</td>\n",
       "      <td>True</td>\n",
       "    </tr>\n",
       "    <tr>\n",
       "      <th>...</th>\n",
       "      <td>...</td>\n",
       "      <td>...</td>\n",
       "      <td>...</td>\n",
       "      <td>...</td>\n",
       "      <td>...</td>\n",
       "      <td>...</td>\n",
       "      <td>...</td>\n",
       "    </tr>\n",
       "    <tr>\n",
       "      <th>2995</th>\n",
       "      <td>100</td>\n",
       "      <td>9</td>\n",
       "      <td>1</td>\n",
       "      <td>12</td>\n",
       "      <td>False</td>\n",
       "      <td>False</td>\n",
       "      <td>False</td>\n",
       "    </tr>\n",
       "    <tr>\n",
       "      <th>2996</th>\n",
       "      <td>100</td>\n",
       "      <td>9</td>\n",
       "      <td>0</td>\n",
       "      <td>8</td>\n",
       "      <td>False</td>\n",
       "      <td>True</td>\n",
       "      <td>True</td>\n",
       "    </tr>\n",
       "    <tr>\n",
       "      <th>2997</th>\n",
       "      <td>100</td>\n",
       "      <td>10</td>\n",
       "      <td>0</td>\n",
       "      <td>28</td>\n",
       "      <td>True</td>\n",
       "      <td>False</td>\n",
       "      <td>True</td>\n",
       "    </tr>\n",
       "    <tr>\n",
       "      <th>2998</th>\n",
       "      <td>100</td>\n",
       "      <td>10</td>\n",
       "      <td>0</td>\n",
       "      <td>24</td>\n",
       "      <td>False</td>\n",
       "      <td>False</td>\n",
       "      <td>False</td>\n",
       "    </tr>\n",
       "    <tr>\n",
       "      <th>2999</th>\n",
       "      <td>100</td>\n",
       "      <td>10</td>\n",
       "      <td>1</td>\n",
       "      <td>16</td>\n",
       "      <td>False</td>\n",
       "      <td>False</td>\n",
       "      <td>False</td>\n",
       "    </tr>\n",
       "  </tbody>\n",
       "</table>\n",
       "<p>3000 rows × 7 columns</p>\n",
       "</div>"
      ],
      "text/plain": [
       "      resp  task  choice  price  brand_N  brand_P  ad_Yes\n",
       "0        1     1       1     28     True    False    True\n",
       "1        1     1       0     16    False    False    True\n",
       "2        1     1       0     16    False     True    True\n",
       "3        1     2       0     32     True    False    True\n",
       "4        1     2       1     16    False     True    True\n",
       "...    ...   ...     ...    ...      ...      ...     ...\n",
       "2995   100     9       1     12    False    False   False\n",
       "2996   100     9       0      8    False     True    True\n",
       "2997   100    10       0     28     True    False    True\n",
       "2998   100    10       0     24    False    False   False\n",
       "2999   100    10       1     16    False    False   False\n",
       "\n",
       "[3000 rows x 7 columns]"
      ]
     },
     "execution_count": 2,
     "metadata": {},
     "output_type": "execute_result"
    }
   ],
   "source": [
    "brand_dummies = pd.get_dummies(df['brand'], prefix='brand')\n",
    "brand_dummies.drop('brand_H', axis=1, inplace=True) \n",
    "ad_dummies = pd.get_dummies(df['ad'], prefix='ad')\n",
    "ad_dummies.drop('ad_No', axis=1, inplace=True)\n",
    "df_processed = pd.concat([df, brand_dummies, ad_dummies], axis=1)\n",
    "df_processed.drop(columns=['brand', 'ad'], inplace=True)\n",
    "df_processed"
   ]
  },
  {
   "cell_type": "code",
   "execution_count": 6,
   "metadata": {},
   "outputs": [
    {
     "name": "stdout",
     "output_type": "stream",
     "text": [
      "NumPy version: 1.26.4\n"
     ]
    }
   ],
   "source": [
    "import numpy as np\n",
    "print(\"NumPy version:\", np.__version__)"
   ]
  },
  {
   "cell_type": "code",
   "execution_count": 7,
   "metadata": {},
   "outputs": [
    {
     "name": "stdout",
     "output_type": "stream",
     "text": [
      "Parameter Estimates and 95% Confidence Intervals:\n",
      "   brand_N: 0.9412 (SE=0.1173)  95% CI: [0.7113, 1.1711]\n",
      "   brand_P: 0.5016 (SE=0.1213)  95% CI: [0.2638, 0.7394]\n",
      "    ad_Yes: -0.7320 (SE=0.0887)  95% CI: [-0.9059, -0.5581]\n",
      "     price: -0.0995 (SE=0.0063)  95% CI: [-0.1119, -0.0870]\n"
     ]
    }
   ],
   "source": [
    "from scipy.optimize import minimize\n",
    "import numpy as np\n",
    "import pandas as pd\n",
    "import math\n",
    "vector_exp = np.vectorize(math.exp)\n",
    "\n",
    "# 明确设置这些变量\n",
    "X_cols = ['brand_N', 'brand_P', 'ad_Yes', 'price']\n",
    "X = df_processed[X_cols].to_numpy()\n",
    "y = df_processed['choice'].values\n",
    "tasks = df_processed.groupby(['resp', 'task']).ngroup().values\n",
    "n_tasks = len(np.unique(tasks))\n",
    "\n",
    "# 定义 log-likelihood 接收所有必要参数\n",
    "def make_neg_log_likelihood(X, y, tasks, n_tasks):\n",
    "    def neg_log_likelihood(beta):\n",
    "        beta = np.asarray(beta)  # 强制转换为 numpy array\n",
    "        utilities = X @ beta\n",
    "        exp_util = vector_exp(utilities)\n",
    "\n",
    "        # 按 task 分组求和\n",
    "        task_sums = np.zeros(n_tasks)\n",
    "        for t in range(n_tasks):\n",
    "            task_sums[t] = np.sum(exp_util[tasks == t])\n",
    "\n",
    "        prob = exp_util / task_sums[tasks]  # 广播求解每一行的分母\n",
    "        log_likelihood = np.sum(y * np.log(prob + 1e-12))  # 加小常数防 log(0)\n",
    "        return -log_likelihood\n",
    "    return neg_log_likelihood\n",
    "\n",
    "# 构建函数（此时函数“记住”了 X, y, tasks）\n",
    "neg_ll = make_neg_log_likelihood(X, y, tasks, n_tasks)\n",
    "\n",
    "# 初始值\n",
    "init_params = np.zeros(X.shape[1])\n",
    "\n",
    "# 开始优化\n",
    "result = minimize(neg_ll, init_params, method='BFGS')\n",
    "\n",
    "# 提取参数估计与标准误差\n",
    "beta_hat = result.x\n",
    "hessian = result.hess_inv\n",
    "se = np.sqrt(np.diag(hessian))\n",
    "\n",
    "# 置信区间\n",
    "z = 1.96\n",
    "conf_int = np.vstack([\n",
    "    beta_hat - z * se,\n",
    "    beta_hat + z * se\n",
    "]).T\n",
    "\n",
    "# 打印结果\n",
    "print(\"Parameter Estimates and 95% Confidence Intervals:\")\n",
    "for name, b, s, (low, high) in zip(X_cols, beta_hat, se, conf_int):\n",
    "    print(f\"{name:>10}: {b:.4f} (SE={s:.4f})  95% CI: [{low:.4f}, {high:.4f}]\")"
   ]
  },
  {
   "cell_type": "code",
   "execution_count": 9,
   "metadata": {},
   "outputs": [
    {
     "name": "stdout",
     "output_type": "stream",
     "text": [
      "Posterior Summary from MCMC:\n",
      "             mean        sd      2.5%     97.5%\n",
      "brand_N  0.945877  0.111916  0.732000  1.158856\n",
      "brand_P  0.502751  0.109755  0.297952  0.720992\n",
      "ad_Yes  -0.735053  0.088422 -0.914130 -0.567833\n",
      "price   -0.099597  0.006327 -0.112187 -0.087394\n"
     ]
    }
   ],
   "source": [
    "import math\n",
    "vector_exp = np.vectorize(math.exp)\n",
    "X_cols = ['brand_N', 'brand_P', 'ad_Yes', 'price']\n",
    "X = df_processed[X_cols].to_numpy()\n",
    "y = df_processed['choice'].values\n",
    "tasks = df_processed.groupby(['resp', 'task']).ngroup().values\n",
    "n_tasks = len(np.unique(tasks))\n",
    "\n",
    "def log_likelihood(beta):\n",
    "    beta = np.asarray(beta)\n",
    "    utilities = X @ beta\n",
    "    exp_util = vector_exp(utilities)\n",
    "    task_sum = np.bincount(tasks, weights=exp_util)\n",
    "    prob = exp_util / task_sum[tasks]\n",
    "    return np.sum(y * np.log(prob + 1e-12))\n",
    "\n",
    "def log_prior(beta):\n",
    "    b1, b2, b3, b4 = beta\n",
    "    prior1 = -0.5 * (b1 ** 2) / 5\n",
    "    prior2 = -0.5 * (b2 ** 2) / 5\n",
    "    prior3 = -0.5 * (b3 ** 2) / 5\n",
    "    prior4 = -0.5 * (b4 ** 2) / 1\n",
    "    return prior1 + prior2 + prior3 + prior4\n",
    "\n",
    "# log-posterior = log-likelihood + log-prior\n",
    "def log_posterior(beta):\n",
    "    return log_likelihood(beta) + log_prior(beta)\n",
    "\n",
    "n_iter = 11000\n",
    "burn_in = 1000\n",
    "samples = np.zeros((n_iter, 4))\n",
    "beta_current = np.zeros(4)\n",
    "log_post_current = log_posterior(beta_current)\n",
    "\n",
    "proposal_std = np.array([0.05, 0.05, 0.05, 0.005])\n",
    "for i in range(n_iter):\n",
    "    proposal = beta_current + np.random.normal(0, proposal_std)\n",
    "    log_post_proposal = log_posterior(proposal)\n",
    "    log_accept_ratio = log_post_proposal - log_post_current\n",
    "    if np.log(np.random.rand()) < log_accept_ratio:\n",
    "        beta_current = proposal\n",
    "        log_post_current = log_post_proposal\n",
    "    samples[i] = beta_current\n",
    "\n",
    "posterior_samples = samples[burn_in:]\n",
    "posterior_summary = pd.DataFrame({\n",
    "    'mean': posterior_samples.mean(axis=0),\n",
    "    'sd': posterior_samples.std(axis=0),\n",
    "    '2.5%': np.percentile(posterior_samples, 2.5, axis=0),\n",
    "    '97.5%': np.percentile(posterior_samples, 97.5, axis=0)\n",
    "}, index=X_cols)\n",
    "\n",
    "print(\"Posterior Summary from MCMC:\")\n",
    "print(posterior_summary)"
   ]
  },
  {
   "cell_type": "code",
   "execution_count": null,
   "metadata": {},
   "outputs": [
    {
     "data": {
      "image/png": "[encoded data removed]",
      "text/plain": [
       "<Figure size 1000x400 with 1 Axes>"
      ]
     },
     "metadata": {},
     "output_type": "display_data"
    },
    {
     "data": {
      "image/png": "[encoded data removed]",
      "text/plain": [
       "<Figure size 800x400 with 1 Axes>"
      ]
     },
     "metadata": {},
     "output_type": "display_data"
    }
   ],
   "source": [
    "import matplotlib.pyplot as plt\n",
    "import seaborn as sns\n",
    "\n",
    "beta_price_samples = posterior_samples[:, 3]\n",
    "\n",
    "sns.set(style=\"whitegrid\", context=\"notebook\")\n",
    "\n",
    "# 🎨 Trace plot\n",
    "plt.figure(figsize=(10, 4))\n",
    "plt.plot(beta_price_samples, color=\"steelblue\", alpha=0.8)\n",
    "plt.title(\"Trace Plot for β_price\", fontsize=14)\n",
    "plt.xlabel(\"Iteration\", fontsize=12)\n",
    "plt.ylabel(\"Value\", fontsize=12)\n",
    "plt.tight_layout()\n",
    "plt.show()\n",
    "\n",
    "# 🎨 Histogram + KDE\n",
    "plt.figure(figsize=(8, 4))\n",
    "sns.histplot(beta_price_samples, bins=40, kde=True, color=\"skyblue\")\n",
    "plt.title(\"Posterior Distribution for β_price\", fontsize=14)\n",
    "plt.xlabel(\"Value\", fontsize=12)\n",
    "plt.ylabel(\"Density\", fontsize=12)\n",
    "plt.tight_layout()\n",
    "plt.show()"
   ]
  }
 ],
 "metadata": {
  "kernelspec": {
   "display_name": "Python 3",
   "language": "python",
   "name": "python3"
  },
  "language_info": {
   "codemirror_mode": {
    "name": "ipython",
    "version": 3
   },
   "file_extension": ".py",
   "mimetype": "text/x-python",
   "name": "python",
   "nbconvert_exporter": "python",
   "pygments_lexer": "ipython3",
   "version": "3.9.6"
  }
 },
 "nbformat": 4,
 "nbformat_minor": 2
}
