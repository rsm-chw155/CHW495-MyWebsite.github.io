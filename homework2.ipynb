{
 "cells": [
  {
   "cell_type": "code",
   "execution_count": 1,
   "metadata": {},
   "outputs": [],
   "source": [
    "import pandas as pd\n",
    "import numpy as np"
   ]
  },
  {
   "cell_type": "code",
   "execution_count": null,
   "metadata": {},
   "outputs": [],
   "source": [
    "airbnb = pd.read_csv('airbnb.csv')\n",
    "blueprinty = pd.read_csv('blueprinty.csv')"
   ]
  },
  {
   "cell_type": "code",
   "execution_count": 5,
   "metadata": {},
   "outputs": [
    {
     "data": {
      "application/vnd.microsoft.datawrangler.viewer.v0+json": {
       "columns": [
        {
         "name": "index",
         "rawType": "int64",
         "type": "integer"
        },
        {
         "name": "Unnamed: 0",
         "rawType": "int64",
         "type": "integer"
        },
        {
         "name": "id",
         "rawType": "int64",
         "type": "integer"
        },
        {
         "name": "days",
         "rawType": "int64",
         "type": "integer"
        },
        {
         "name": "last_scraped",
         "rawType": "object",
         "type": "string"
        },
        {
         "name": "host_since",
         "rawType": "object",
         "type": "string"
        },
        {
         "name": "room_type",
         "rawType": "object",
         "type": "string"
        },
        {
         "name": "bathrooms",
         "rawType": "float64",
         "type": "float"
        },
        {
         "name": "bedrooms",
         "rawType": "float64",
         "type": "float"
        },
        {
         "name": "price",
         "rawType": "int64",
         "type": "integer"
        },
        {
         "name": "number_of_reviews",
         "rawType": "int64",
         "type": "integer"
        },
        {
         "name": "review_scores_cleanliness",
         "rawType": "float64",
         "type": "float"
        },
        {
         "name": "review_scores_location",
         "rawType": "float64",
         "type": "float"
        },
        {
         "name": "review_scores_value",
         "rawType": "float64",
         "type": "float"
        },
        {
         "name": "instant_bookable",
         "rawType": "object",
         "type": "string"
        }
       ],
       "conversionMethod": "pd.DataFrame",
       "ref": "ff3a30f7-2dcd-4cc9-8fab-b1583d215465",
       "rows": [
        [
         "0",
         "1",
         "2515",
         "3130",
         "4/2/2017",
         "9/6/2008",
         "Private room",
         "1.0",
         "1.0",
         "59",
         "150",
         "9.0",
         "9.0",
         "9.0",
         "f"
        ],
        [
         "1",
         "2",
         "2595",
         "3127",
         "4/2/2017",
         "9/9/2008",
         "Entire home/apt",
         "1.0",
         "0.0",
         "230",
         "20",
         "9.0",
         "10.0",
         "9.0",
         "f"
        ],
        [
         "2",
         "3",
         "3647",
         "3050",
         "4/2/2017",
         "11/25/2008",
         "Private room",
         "1.0",
         "1.0",
         "150",
         "0",
         null,
         null,
         null,
         "f"
        ],
        [
         "3",
         "4",
         "3831",
         "3038",
         "4/2/2017",
         "12/7/2008",
         "Entire home/apt",
         "1.0",
         "1.0",
         "89",
         "116",
         "9.0",
         "9.0",
         "9.0",
         "f"
        ],
        [
         "4",
         "5",
         "4611",
         "3012",
         "4/2/2017",
         "1/2/2009",
         "Private room",
         null,
         "1.0",
         "39",
         "93",
         "9.0",
         "8.0",
         "9.0",
         "t"
        ]
       ],
       "shape": {
        "columns": 14,
        "rows": 5
       }
      },
      "text/html": [
       "<div>\n",
       "<style scoped>\n",
       "    .dataframe tbody tr th:only-of-type {\n",
       "        vertical-align: middle;\n",
       "    }\n",
       "\n",
       "    .dataframe tbody tr th {\n",
       "        vertical-align: top;\n",
       "    }\n",
       "\n",
       "    .dataframe thead th {\n",
       "        text-align: right;\n",
       "    }\n",
       "</style>\n",
       "<table border=\"1\" class=\"dataframe\">\n",
       "  <thead>\n",
       "    <tr style=\"text-align: right;\">\n",
       "      <th></th>\n",
       "      <th>Unnamed: 0</th>\n",
       "      <th>id</th>\n",
       "      <th>days</th>\n",
       "      <th>last_scraped</th>\n",
       "      <th>host_since</th>\n",
       "      <th>room_type</th>\n",
       "      <th>bathrooms</th>\n",
       "      <th>bedrooms</th>\n",
       "      <th>price</th>\n",
       "      <th>number_of_reviews</th>\n",
       "      <th>review_scores_cleanliness</th>\n",
       "      <th>review_scores_location</th>\n",
       "      <th>review_scores_value</th>\n",
       "      <th>instant_bookable</th>\n",
       "    </tr>\n",
       "  </thead>\n",
       "  <tbody>\n",
       "    <tr>\n",
       "      <th>0</th>\n",
       "      <td>1</td>\n",
       "      <td>2515</td>\n",
       "      <td>3130</td>\n",
       "      <td>4/2/2017</td>\n",
       "      <td>9/6/2008</td>\n",
       "      <td>Private room</td>\n",
       "      <td>1.0</td>\n",
       "      <td>1.0</td>\n",
       "      <td>59</td>\n",
       "      <td>150</td>\n",
       "      <td>9.0</td>\n",
       "      <td>9.0</td>\n",
       "      <td>9.0</td>\n",
       "      <td>f</td>\n",
       "    </tr>\n",
       "    <tr>\n",
       "      <th>1</th>\n",
       "      <td>2</td>\n",
       "      <td>2595</td>\n",
       "      <td>3127</td>\n",
       "      <td>4/2/2017</td>\n",
       "      <td>9/9/2008</td>\n",
       "      <td>Entire home/apt</td>\n",
       "      <td>1.0</td>\n",
       "      <td>0.0</td>\n",
       "      <td>230</td>\n",
       "      <td>20</td>\n",
       "      <td>9.0</td>\n",
       "      <td>10.0</td>\n",
       "      <td>9.0</td>\n",
       "      <td>f</td>\n",
       "    </tr>\n",
       "    <tr>\n",
       "      <th>2</th>\n",
       "      <td>3</td>\n",
       "      <td>3647</td>\n",
       "      <td>3050</td>\n",
       "      <td>4/2/2017</td>\n",
       "      <td>11/25/2008</td>\n",
       "      <td>Private room</td>\n",
       "      <td>1.0</td>\n",
       "      <td>1.0</td>\n",
       "      <td>150</td>\n",
       "      <td>0</td>\n",
       "      <td>NaN</td>\n",
       "      <td>NaN</td>\n",
       "      <td>NaN</td>\n",
       "      <td>f</td>\n",
       "    </tr>\n",
       "    <tr>\n",
       "      <th>3</th>\n",
       "      <td>4</td>\n",
       "      <td>3831</td>\n",
       "      <td>3038</td>\n",
       "      <td>4/2/2017</td>\n",
       "      <td>12/7/2008</td>\n",
       "      <td>Entire home/apt</td>\n",
       "      <td>1.0</td>\n",
       "      <td>1.0</td>\n",
       "      <td>89</td>\n",
       "      <td>116</td>\n",
       "      <td>9.0</td>\n",
       "      <td>9.0</td>\n",
       "      <td>9.0</td>\n",
       "      <td>f</td>\n",
       "    </tr>\n",
       "    <tr>\n",
       "      <th>4</th>\n",
       "      <td>5</td>\n",
       "      <td>4611</td>\n",
       "      <td>3012</td>\n",
       "      <td>4/2/2017</td>\n",
       "      <td>1/2/2009</td>\n",
       "      <td>Private room</td>\n",
       "      <td>NaN</td>\n",
       "      <td>1.0</td>\n",
       "      <td>39</td>\n",
       "      <td>93</td>\n",
       "      <td>9.0</td>\n",
       "      <td>8.0</td>\n",
       "      <td>9.0</td>\n",
       "      <td>t</td>\n",
       "    </tr>\n",
       "  </tbody>\n",
       "</table>\n",
       "</div>"
      ],
      "text/plain": [
       "   Unnamed: 0    id  days last_scraped  host_since        room_type  \\\n",
       "0           1  2515  3130     4/2/2017    9/6/2008     Private room   \n",
       "1           2  2595  3127     4/2/2017    9/9/2008  Entire home/apt   \n",
       "2           3  3647  3050     4/2/2017  11/25/2008     Private room   \n",
       "3           4  3831  3038     4/2/2017   12/7/2008  Entire home/apt   \n",
       "4           5  4611  3012     4/2/2017    1/2/2009     Private room   \n",
       "\n",
       "   bathrooms  bedrooms  price  number_of_reviews  review_scores_cleanliness  \\\n",
       "0        1.0       1.0     59                150                        9.0   \n",
       "1        1.0       0.0    230                 20                        9.0   \n",
       "2        1.0       1.0    150                  0                        NaN   \n",
       "3        1.0       1.0     89                116                        9.0   \n",
       "4        NaN       1.0     39                 93                        9.0   \n",
       "\n",
       "   review_scores_location  review_scores_value instant_bookable  \n",
       "0                     9.0                  9.0                f  \n",
       "1                    10.0                  9.0                f  \n",
       "2                     NaN                  NaN                f  \n",
       "3                     9.0                  9.0                f  \n",
       "4                     8.0                  9.0                t  "
      ]
     },
     "execution_count": 5,
     "metadata": {},
     "output_type": "execute_result"
    }
   ],
   "source": [
    "airbnb.head()"
   ]
  },
  {
   "cell_type": "code",
   "execution_count": 6,
   "metadata": {},
   "outputs": [
    {
     "data": {
      "application/vnd.microsoft.datawrangler.viewer.v0+json": {
       "columns": [
        {
         "name": "index",
         "rawType": "int64",
         "type": "integer"
        },
        {
         "name": "patents",
         "rawType": "int64",
         "type": "integer"
        },
        {
         "name": "region",
         "rawType": "object",
         "type": "string"
        },
        {
         "name": "age",
         "rawType": "float64",
         "type": "float"
        },
        {
         "name": "iscustomer",
         "rawType": "int64",
         "type": "integer"
        }
       ],
       "conversionMethod": "pd.DataFrame",
       "ref": "4b6df7f4-8d64-474e-b43d-ac59d960fad5",
       "rows": [
        [
         "0",
         "0",
         "Midwest",
         "32.5",
         "0"
        ],
        [
         "1",
         "3",
         "Southwest",
         "37.5",
         "0"
        ],
        [
         "2",
         "4",
         "Northwest",
         "27.0",
         "1"
        ],
        [
         "3",
         "3",
         "Northeast",
         "24.5",
         "0"
        ],
        [
         "4",
         "3",
         "Southwest",
         "37.0",
         "0"
        ]
       ],
       "shape": {
        "columns": 4,
        "rows": 5
       }
      },
      "text/html": [
       "<div>\n",
       "<style scoped>\n",
       "    .dataframe tbody tr th:only-of-type {\n",
       "        vertical-align: middle;\n",
       "    }\n",
       "\n",
       "    .dataframe tbody tr th {\n",
       "        vertical-align: top;\n",
       "    }\n",
       "\n",
       "    .dataframe thead th {\n",
       "        text-align: right;\n",
       "    }\n",
       "</style>\n",
       "<table border=\"1\" class=\"dataframe\">\n",
       "  <thead>\n",
       "    <tr style=\"text-align: right;\">\n",
       "      <th></th>\n",
       "      <th>patents</th>\n",
       "      <th>region</th>\n",
       "      <th>age</th>\n",
       "      <th>iscustomer</th>\n",
       "    </tr>\n",
       "  </thead>\n",
       "  <tbody>\n",
       "    <tr>\n",
       "      <th>0</th>\n",
       "      <td>0</td>\n",
       "      <td>Midwest</td>\n",
       "      <td>32.5</td>\n",
       "      <td>0</td>\n",
       "    </tr>\n",
       "    <tr>\n",
       "      <th>1</th>\n",
       "      <td>3</td>\n",
       "      <td>Southwest</td>\n",
       "      <td>37.5</td>\n",
       "      <td>0</td>\n",
       "    </tr>\n",
       "    <tr>\n",
       "      <th>2</th>\n",
       "      <td>4</td>\n",
       "      <td>Northwest</td>\n",
       "      <td>27.0</td>\n",
       "      <td>1</td>\n",
       "    </tr>\n",
       "    <tr>\n",
       "      <th>3</th>\n",
       "      <td>3</td>\n",
       "      <td>Northeast</td>\n",
       "      <td>24.5</td>\n",
       "      <td>0</td>\n",
       "    </tr>\n",
       "    <tr>\n",
       "      <th>4</th>\n",
       "      <td>3</td>\n",
       "      <td>Southwest</td>\n",
       "      <td>37.0</td>\n",
       "      <td>0</td>\n",
       "    </tr>\n",
       "  </tbody>\n",
       "</table>\n",
       "</div>"
      ],
      "text/plain": [
       "   patents     region   age  iscustomer\n",
       "0        0    Midwest  32.5           0\n",
       "1        3  Southwest  37.5           0\n",
       "2        4  Northwest  27.0           1\n",
       "3        3  Northeast  24.5           0\n",
       "4        3  Southwest  37.0           0"
      ]
     },
     "execution_count": 6,
     "metadata": {},
     "output_type": "execute_result"
    }
   ],
   "source": [
    "blueprinty.head()"
   ]
  },
  {
   "cell_type": "code",
   "execution_count": 11,
   "metadata": {},
   "outputs": [
    {
     "name": "stdout",
     "output_type": "stream",
     "text": [
      "<class 'pandas.core.frame.DataFrame'>\n",
      "RangeIndex: 1500 entries, 0 to 1499\n",
      "Data columns (total 4 columns):\n",
      " #   Column      Non-Null Count  Dtype  \n",
      "---  ------      --------------  -----  \n",
      " 0   patents     1500 non-null   int64  \n",
      " 1   region      1500 non-null   object \n",
      " 2   age         1500 non-null   float64\n",
      " 3   iscustomer  1500 non-null   int64  \n",
      "dtypes: float64(1), int64(2), object(1)\n",
      "memory usage: 47.0+ KB\n"
     ]
    },
    {
     "data": {
      "application/vnd.microsoft.datawrangler.viewer.v0+json": {
       "columns": [
        {
         "name": "index",
         "rawType": "int64",
         "type": "integer"
        },
        {
         "name": "patents",
         "rawType": "int64",
         "type": "integer"
        },
        {
         "name": "region",
         "rawType": "object",
         "type": "string"
        },
        {
         "name": "age",
         "rawType": "float64",
         "type": "float"
        },
        {
         "name": "iscustomer",
         "rawType": "int64",
         "type": "integer"
        }
       ],
       "conversionMethod": "pd.DataFrame",
       "ref": "ca12fab1-de5e-477e-a263-a987b3e96e96",
       "rows": [
        [
         "0",
         "0",
         "Midwest",
         "32.5",
         "0"
        ],
        [
         "1",
         "3",
         "Southwest",
         "37.5",
         "0"
        ],
        [
         "2",
         "4",
         "Northwest",
         "27.0",
         "1"
        ],
        [
         "3",
         "3",
         "Northeast",
         "24.5",
         "0"
        ],
        [
         "4",
         "3",
         "Southwest",
         "37.0",
         "0"
        ],
        [
         "5",
         "6",
         "Northeast",
         "29.5",
         "1"
        ],
        [
         "6",
         "5",
         "Southwest",
         "27.0",
         "0"
        ],
        [
         "7",
         "5",
         "Northeast",
         "20.5",
         "0"
        ],
        [
         "8",
         "6",
         "Northeast",
         "25.0",
         "0"
        ],
        [
         "9",
         "4",
         "Midwest",
         "29.5",
         "0"
        ],
        [
         "10",
         "2",
         "Midwest",
         "36.0",
         "0"
        ],
        [
         "11",
         "3",
         "Southwest",
         "18.0",
         "0"
        ],
        [
         "12",
         "7",
         "Midwest",
         "21.0",
         "0"
        ],
        [
         "13",
         "4",
         "Northwest",
         "19.5",
         "1"
        ],
        [
         "14",
         "5",
         "Midwest",
         "32.5",
         "0"
        ],
        [
         "15",
         "4",
         "Northwest",
         "28.0",
         "0"
        ],
        [
         "16",
         "2",
         "Northeast",
         "28.5",
         "0"
        ],
        [
         "17",
         "2",
         "South",
         "29.5",
         "0"
        ],
        [
         "18",
         "2",
         "Northeast",
         "33.0",
         "1"
        ],
        [
         "19",
         "5",
         "South",
         "23.5",
         "1"
        ],
        [
         "20",
         "10",
         "Southwest",
         "33.0",
         "1"
        ],
        [
         "21",
         "4",
         "Southwest",
         "18.0",
         "0"
        ],
        [
         "22",
         "6",
         "Northeast",
         "23.5",
         "0"
        ],
        [
         "23",
         "4",
         "Northwest",
         "26.5",
         "0"
        ],
        [
         "24",
         "1",
         "Northeast",
         "31.5",
         "1"
        ],
        [
         "25",
         "5",
         "South",
         "23.5",
         "1"
        ],
        [
         "26",
         "3",
         "Northeast",
         "30.0",
         "1"
        ],
        [
         "27",
         "0",
         "Southwest",
         "38.0",
         "0"
        ],
        [
         "28",
         "1",
         "Northwest",
         "38.0",
         "0"
        ],
        [
         "29",
         "2",
         "Northeast",
         "18.5",
         "0"
        ],
        [
         "30",
         "0",
         "Northeast",
         "30.5",
         "0"
        ],
        [
         "31",
         "9",
         "Northeast",
         "28.0",
         "0"
        ],
        [
         "32",
         "3",
         "Southwest",
         "12.0",
         "0"
        ],
        [
         "33",
         "1",
         "Northeast",
         "28.5",
         "0"
        ],
        [
         "34",
         "7",
         "Northeast",
         "35.0",
         "1"
        ],
        [
         "35",
         "3",
         "Southwest",
         "27.5",
         "0"
        ],
        [
         "36",
         "5",
         "Northeast",
         "31.0",
         "1"
        ],
        [
         "37",
         "5",
         "Midwest",
         "27.5",
         "0"
        ],
        [
         "38",
         "2",
         "Northwest",
         "14.5",
         "0"
        ],
        [
         "39",
         "3",
         "Midwest",
         "27.0",
         "0"
        ],
        [
         "40",
         "4",
         "South",
         "35.0",
         "1"
        ],
        [
         "41",
         "4",
         "South",
         "26.5",
         "0"
        ],
        [
         "42",
         "5",
         "Midwest",
         "21.5",
         "0"
        ],
        [
         "43",
         "3",
         "Southwest",
         "28.0",
         "0"
        ],
        [
         "44",
         "10",
         "Northeast",
         "19.0",
         "0"
        ],
        [
         "45",
         "1",
         "Southwest",
         "19.5",
         "0"
        ],
        [
         "46",
         "1",
         "Northeast",
         "24.0",
         "1"
        ],
        [
         "47",
         "7",
         "Northeast",
         "38.5",
         "1"
        ],
        [
         "48",
         "1",
         "Northeast",
         "33.5",
         "1"
        ],
        [
         "49",
         "8",
         "Northwest",
         "25.0",
         "0"
        ]
       ],
       "shape": {
        "columns": 4,
        "rows": 1500
       }
      },
      "text/html": [
       "<div>\n",
       "<style scoped>\n",
       "    .dataframe tbody tr th:only-of-type {\n",
       "        vertical-align: middle;\n",
       "    }\n",
       "\n",
       "    .dataframe tbody tr th {\n",
       "        vertical-align: top;\n",
       "    }\n",
       "\n",
       "    .dataframe thead th {\n",
       "        text-align: right;\n",
       "    }\n",
       "</style>\n",
       "<table border=\"1\" class=\"dataframe\">\n",
       "  <thead>\n",
       "    <tr style=\"text-align: right;\">\n",
       "      <th></th>\n",
       "      <th>patents</th>\n",
       "      <th>region</th>\n",
       "      <th>age</th>\n",
       "      <th>iscustomer</th>\n",
       "    </tr>\n",
       "  </thead>\n",
       "  <tbody>\n",
       "    <tr>\n",
       "      <th>0</th>\n",
       "      <td>0</td>\n",
       "      <td>Midwest</td>\n",
       "      <td>32.5</td>\n",
       "      <td>0</td>\n",
       "    </tr>\n",
       "    <tr>\n",
       "      <th>1</th>\n",
       "      <td>3</td>\n",
       "      <td>Southwest</td>\n",
       "      <td>37.5</td>\n",
       "      <td>0</td>\n",
       "    </tr>\n",
       "    <tr>\n",
       "      <th>2</th>\n",
       "      <td>4</td>\n",
       "      <td>Northwest</td>\n",
       "      <td>27.0</td>\n",
       "      <td>1</td>\n",
       "    </tr>\n",
       "    <tr>\n",
       "      <th>3</th>\n",
       "      <td>3</td>\n",
       "      <td>Northeast</td>\n",
       "      <td>24.5</td>\n",
       "      <td>0</td>\n",
       "    </tr>\n",
       "    <tr>\n",
       "      <th>4</th>\n",
       "      <td>3</td>\n",
       "      <td>Southwest</td>\n",
       "      <td>37.0</td>\n",
       "      <td>0</td>\n",
       "    </tr>\n",
       "    <tr>\n",
       "      <th>...</th>\n",
       "      <td>...</td>\n",
       "      <td>...</td>\n",
       "      <td>...</td>\n",
       "      <td>...</td>\n",
       "    </tr>\n",
       "    <tr>\n",
       "      <th>1495</th>\n",
       "      <td>2</td>\n",
       "      <td>Northeast</td>\n",
       "      <td>18.5</td>\n",
       "      <td>1</td>\n",
       "    </tr>\n",
       "    <tr>\n",
       "      <th>1496</th>\n",
       "      <td>3</td>\n",
       "      <td>Southwest</td>\n",
       "      <td>22.5</td>\n",
       "      <td>0</td>\n",
       "    </tr>\n",
       "    <tr>\n",
       "      <th>1497</th>\n",
       "      <td>4</td>\n",
       "      <td>Southwest</td>\n",
       "      <td>17.0</td>\n",
       "      <td>0</td>\n",
       "    </tr>\n",
       "    <tr>\n",
       "      <th>1498</th>\n",
       "      <td>3</td>\n",
       "      <td>South</td>\n",
       "      <td>29.0</td>\n",
       "      <td>0</td>\n",
       "    </tr>\n",
       "    <tr>\n",
       "      <th>1499</th>\n",
       "      <td>1</td>\n",
       "      <td>South</td>\n",
       "      <td>39.0</td>\n",
       "      <td>0</td>\n",
       "    </tr>\n",
       "  </tbody>\n",
       "</table>\n",
       "<p>1500 rows × 4 columns</p>\n",
       "</div>"
      ],
      "text/plain": [
       "      patents     region   age  iscustomer\n",
       "0           0    Midwest  32.5           0\n",
       "1           3  Southwest  37.5           0\n",
       "2           4  Northwest  27.0           1\n",
       "3           3  Northeast  24.5           0\n",
       "4           3  Southwest  37.0           0\n",
       "...       ...        ...   ...         ...\n",
       "1495        2  Northeast  18.5           1\n",
       "1496        3  Southwest  22.5           0\n",
       "1497        4  Southwest  17.0           0\n",
       "1498        3      South  29.0           0\n",
       "1499        1      South  39.0           0\n",
       "\n",
       "[1500 rows x 4 columns]"
      ]
     },
     "execution_count": 11,
     "metadata": {},
     "output_type": "execute_result"
    }
   ],
   "source": [
    "blueprinty.info()\n",
    "blueprinty"
   ]
  },
  {
   "cell_type": "code",
   "execution_count": 10,
   "metadata": {},
   "outputs": [
    {
     "name": "stdout",
     "output_type": "stream",
     "text": [
      "<class 'pandas.core.frame.DataFrame'>\n",
      "RangeIndex: 5 entries, 0 to 4\n",
      "Data columns (total 14 columns):\n",
      " #   Column                     Non-Null Count  Dtype  \n",
      "---  ------                     --------------  -----  \n",
      " 0   Unnamed: 0                 5 non-null      int64  \n",
      " 1   id                         5 non-null      int64  \n",
      " 2   days                       5 non-null      int64  \n",
      " 3   last_scraped               5 non-null      object \n",
      " 4   host_since                 5 non-null      object \n",
      " 5   room_type                  5 non-null      object \n",
      " 6   bathrooms                  4 non-null      float64\n",
      " 7   bedrooms                   5 non-null      float64\n",
      " 8   price                      5 non-null      int64  \n",
      " 9   number_of_reviews          5 non-null      int64  \n",
      " 10  review_scores_cleanliness  4 non-null      float64\n",
      " 11  review_scores_location     4 non-null      float64\n",
      " 12  review_scores_value        4 non-null      float64\n",
      " 13  instant_bookable           5 non-null      object \n",
      "dtypes: float64(5), int64(5), object(4)\n",
      "memory usage: 688.0+ bytes\n"
     ]
    },
    {
     "data": {
      "application/vnd.microsoft.datawrangler.viewer.v0+json": {
       "columns": [
        {
         "name": "index",
         "rawType": "object",
         "type": "string"
        },
        {
         "name": "Unnamed: 0",
         "rawType": "float64",
         "type": "float"
        },
        {
         "name": "id",
         "rawType": "float64",
         "type": "float"
        },
        {
         "name": "days",
         "rawType": "float64",
         "type": "float"
        },
        {
         "name": "bathrooms",
         "rawType": "float64",
         "type": "float"
        },
        {
         "name": "bedrooms",
         "rawType": "float64",
         "type": "float"
        },
        {
         "name": "price",
         "rawType": "float64",
         "type": "float"
        },
        {
         "name": "number_of_reviews",
         "rawType": "float64",
         "type": "float"
        },
        {
         "name": "review_scores_cleanliness",
         "rawType": "float64",
         "type": "float"
        },
        {
         "name": "review_scores_location",
         "rawType": "float64",
         "type": "float"
        },
        {
         "name": "review_scores_value",
         "rawType": "float64",
         "type": "float"
        }
       ],
       "conversionMethod": "pd.DataFrame",
       "ref": "a79b0428-65ef-441e-b572-0074c9effd12",
       "rows": [
        [
         "count",
         "5.0",
         "5.0",
         "5.0",
         "4.0",
         "5.0",
         "5.0",
         "5.0",
         "4.0",
         "4.0",
         "4.0"
        ],
        [
         "mean",
         "3.0",
         "3439.8",
         "3071.4",
         "1.0",
         "0.8",
         "113.4",
         "75.8",
         "9.0",
         "9.0",
         "9.0"
        ],
        [
         "std",
         "1.5811388300841898",
         "885.5253807768584",
         "53.91474751865207",
         "0.0",
         "0.44721359549995804",
         "77.50032257997381",
         "63.79028139144709",
         "0.0",
         "0.816496580927726",
         "0.0"
        ],
        [
         "min",
         "1.0",
         "2515.0",
         "3012.0",
         "1.0",
         "0.0",
         "39.0",
         "0.0",
         "9.0",
         "8.0",
         "9.0"
        ],
        [
         "25%",
         "2.0",
         "2595.0",
         "3038.0",
         "1.0",
         "1.0",
         "59.0",
         "20.0",
         "9.0",
         "8.75",
         "9.0"
        ],
        [
         "50%",
         "3.0",
         "3647.0",
         "3050.0",
         "1.0",
         "1.0",
         "89.0",
         "93.0",
         "9.0",
         "9.0",
         "9.0"
        ],
        [
         "75%",
         "4.0",
         "3831.0",
         "3127.0",
         "1.0",
         "1.0",
         "150.0",
         "116.0",
         "9.0",
         "9.25",
         "9.0"
        ],
        [
         "max",
         "5.0",
         "4611.0",
         "3130.0",
         "1.0",
         "1.0",
         "230.0",
         "150.0",
         "9.0",
         "10.0",
         "9.0"
        ]
       ],
       "shape": {
        "columns": 10,
        "rows": 8
       }
      },
      "text/html": [
       "<div>\n",
       "<style scoped>\n",
       "    .dataframe tbody tr th:only-of-type {\n",
       "        vertical-align: middle;\n",
       "    }\n",
       "\n",
       "    .dataframe tbody tr th {\n",
       "        vertical-align: top;\n",
       "    }\n",
       "\n",
       "    .dataframe thead th {\n",
       "        text-align: right;\n",
       "    }\n",
       "</style>\n",
       "<table border=\"1\" class=\"dataframe\">\n",
       "  <thead>\n",
       "    <tr style=\"text-align: right;\">\n",
       "      <th></th>\n",
       "      <th>Unnamed: 0</th>\n",
       "      <th>id</th>\n",
       "      <th>days</th>\n",
       "      <th>bathrooms</th>\n",
       "      <th>bedrooms</th>\n",
       "      <th>price</th>\n",
       "      <th>number_of_reviews</th>\n",
       "      <th>review_scores_cleanliness</th>\n",
       "      <th>review_scores_location</th>\n",
       "      <th>review_scores_value</th>\n",
       "    </tr>\n",
       "  </thead>\n",
       "  <tbody>\n",
       "    <tr>\n",
       "      <th>count</th>\n",
       "      <td>5.000000</td>\n",
       "      <td>5.000000</td>\n",
       "      <td>5.000000</td>\n",
       "      <td>4.0</td>\n",
       "      <td>5.000000</td>\n",
       "      <td>5.000000</td>\n",
       "      <td>5.000000</td>\n",
       "      <td>4.0</td>\n",
       "      <td>4.000000</td>\n",
       "      <td>4.0</td>\n",
       "    </tr>\n",
       "    <tr>\n",
       "      <th>mean</th>\n",
       "      <td>3.000000</td>\n",
       "      <td>3439.800000</td>\n",
       "      <td>3071.400000</td>\n",
       "      <td>1.0</td>\n",
       "      <td>0.800000</td>\n",
       "      <td>113.400000</td>\n",
       "      <td>75.800000</td>\n",
       "      <td>9.0</td>\n",
       "      <td>9.000000</td>\n",
       "      <td>9.0</td>\n",
       "    </tr>\n",
       "    <tr>\n",
       "      <th>std</th>\n",
       "      <td>1.581139</td>\n",
       "      <td>885.525381</td>\n",
       "      <td>53.914748</td>\n",
       "      <td>0.0</td>\n",
       "      <td>0.447214</td>\n",
       "      <td>77.500323</td>\n",
       "      <td>63.790281</td>\n",
       "      <td>0.0</td>\n",
       "      <td>0.816497</td>\n",
       "      <td>0.0</td>\n",
       "    </tr>\n",
       "    <tr>\n",
       "      <th>min</th>\n",
       "      <td>1.000000</td>\n",
       "      <td>2515.000000</td>\n",
       "      <td>3012.000000</td>\n",
       "      <td>1.0</td>\n",
       "      <td>0.000000</td>\n",
       "      <td>39.000000</td>\n",
       "      <td>0.000000</td>\n",
       "      <td>9.0</td>\n",
       "      <td>8.000000</td>\n",
       "      <td>9.0</td>\n",
       "    </tr>\n",
       "    <tr>\n",
       "      <th>25%</th>\n",
       "      <td>2.000000</td>\n",
       "      <td>2595.000000</td>\n",
       "      <td>3038.000000</td>\n",
       "      <td>1.0</td>\n",
       "      <td>1.000000</td>\n",
       "      <td>59.000000</td>\n",
       "      <td>20.000000</td>\n",
       "      <td>9.0</td>\n",
       "      <td>8.750000</td>\n",
       "      <td>9.0</td>\n",
       "    </tr>\n",
       "    <tr>\n",
       "      <th>50%</th>\n",
       "      <td>3.000000</td>\n",
       "      <td>3647.000000</td>\n",
       "      <td>3050.000000</td>\n",
       "      <td>1.0</td>\n",
       "      <td>1.000000</td>\n",
       "      <td>89.000000</td>\n",
       "      <td>93.000000</td>\n",
       "      <td>9.0</td>\n",
       "      <td>9.000000</td>\n",
       "      <td>9.0</td>\n",
       "    </tr>\n",
       "    <tr>\n",
       "      <th>75%</th>\n",
       "      <td>4.000000</td>\n",
       "      <td>3831.000000</td>\n",
       "      <td>3127.000000</td>\n",
       "      <td>1.0</td>\n",
       "      <td>1.000000</td>\n",
       "      <td>150.000000</td>\n",
       "      <td>116.000000</td>\n",
       "      <td>9.0</td>\n",
       "      <td>9.250000</td>\n",
       "      <td>9.0</td>\n",
       "    </tr>\n",
       "    <tr>\n",
       "      <th>max</th>\n",
       "      <td>5.000000</td>\n",
       "      <td>4611.000000</td>\n",
       "      <td>3130.000000</td>\n",
       "      <td>1.0</td>\n",
       "      <td>1.000000</td>\n",
       "      <td>230.000000</td>\n",
       "      <td>150.000000</td>\n",
       "      <td>9.0</td>\n",
       "      <td>10.000000</td>\n",
       "      <td>9.0</td>\n",
       "    </tr>\n",
       "  </tbody>\n",
       "</table>\n",
       "</div>"
      ],
      "text/plain": [
       "       Unnamed: 0           id         days  bathrooms  bedrooms       price  \\\n",
       "count    5.000000     5.000000     5.000000        4.0  5.000000    5.000000   \n",
       "mean     3.000000  3439.800000  3071.400000        1.0  0.800000  113.400000   \n",
       "std      1.581139   885.525381    53.914748        0.0  0.447214   77.500323   \n",
       "min      1.000000  2515.000000  3012.000000        1.0  0.000000   39.000000   \n",
       "25%      2.000000  2595.000000  3038.000000        1.0  1.000000   59.000000   \n",
       "50%      3.000000  3647.000000  3050.000000        1.0  1.000000   89.000000   \n",
       "75%      4.000000  3831.000000  3127.000000        1.0  1.000000  150.000000   \n",
       "max      5.000000  4611.000000  3130.000000        1.0  1.000000  230.000000   \n",
       "\n",
       "       number_of_reviews  review_scores_cleanliness  review_scores_location  \\\n",
       "count           5.000000                        4.0                4.000000   \n",
       "mean           75.800000                        9.0                9.000000   \n",
       "std            63.790281                        0.0                0.816497   \n",
       "min             0.000000                        9.0                8.000000   \n",
       "25%            20.000000                        9.0                8.750000   \n",
       "50%            93.000000                        9.0                9.000000   \n",
       "75%           116.000000                        9.0                9.250000   \n",
       "max           150.000000                        9.0               10.000000   \n",
       "\n",
       "       review_scores_value  \n",
       "count                  4.0  \n",
       "mean                   9.0  \n",
       "std                    0.0  \n",
       "min                    9.0  \n",
       "25%                    9.0  \n",
       "50%                    9.0  \n",
       "75%                    9.0  \n",
       "max                    9.0  "
      ]
     },
     "execution_count": 10,
     "metadata": {},
     "output_type": "execute_result"
    }
   ],
   "source": [
    "airbnb.info()\n",
    "airbnb.describe()"
   ]
  },
  {
   "cell_type": "code",
   "execution_count": null,
   "metadata": {},
   "outputs": [
    {
     "data": {
      "image/png": "[encoded data removed]",
      "text/plain": [
       "<Figure size 1000x600 with 1 Axes>"
      ]
     },
     "metadata": {},
     "output_type": "display_data"
    }
   ],
   "source": [
    "import matplotlib.pyplot as plt\n",
    "import seaborn as sns\n",
    "\n",
    "plt.figure(figsize=(10, 6))\n",
    "plt.title('Patent Distribution')\n",
    "sns.histplot(blueprinty['patents'], bins=50, kde=True)\n",
    "plt.show()"
   ]
  },
  {
   "cell_type": "code",
   "execution_count": 26,
   "metadata": {},
   "outputs": [
    {
     "data": {
      "image/png": "[encoded data removed]",
      "text/plain": [
       "<Figure size 3000x2000 with 25 Axes>"
      ]
     },
     "metadata": {},
     "output_type": "display_data"
    }
   ],
   "source": [
    "import matplotlib.pyplot as plt\n",
    "import seaborn as sns\n",
    "\n",
    "# 設定年齡分組（你可以依需要調整區間）\n",
    "blueprinty['age_group'] = pd.cut(blueprinty['age'], bins=[0, 20, 30, 40, 50, 100], \n",
    "                                 labels=['≤20', '21–30', '31–40', '41–50', '>50'])\n",
    "\n",
    "# 畫出直方圖，按「是否為客戶」分 Facet，並用不同年齡分組顯示\n",
    "g = sns.displot(\n",
    "    data=blueprinty,\n",
    "    x=\"patents\",\n",
    "    col=\"region\",     \n",
    "    row=\"age_group\",         # 年齡分組\n",
    "    kind=\"hist\",\n",
    "    bins=30,\n",
    "    kde=True,\n",
    "    height=4,\n",
    "    aspect=1.5,\n",
    "    facet_kws={'margin_titles': True}\n",
    ")\n",
    "\n",
    "g.set_axis_labels(\"Number of Patents\", \"Count\")\n",
    "g.set_titles(col_template=\"Customer: {col_name}\")\n",
    "g.set_titles(col_template=\"Region: {col_name}\", row_template=\"Age Group: {row_name}\")\n",
    "plt.subplots_adjust(top=0.9)\n",
    "for ax in g.axes.flatten():\n",
    "    ax.tick_params(labelbottom=True)\n",
    "g.fig.suptitle(\"Patent Distribution by Age Group and Region\", fontsize=16)\n",
    "plt.show()"
   ]
  },
  {
   "cell_type": "code",
   "execution_count": 19,
   "metadata": {},
   "outputs": [
    {
     "data": {
      "text/plain": [
       "iscustomer\n",
       "0    3.473013\n",
       "1    4.133056\n",
       "Name: patents, dtype: float64"
      ]
     },
     "execution_count": 19,
     "metadata": {},
     "output_type": "execute_result"
    }
   ],
   "source": [
    "patent_mean_bycustomer = blueprinty.groupby('iscustomer')['patents'].mean()\n",
    "patent_mean_bycustomer"
   ]
  },
  {
   "cell_type": "code",
   "execution_count": 20,
   "metadata": {},
   "outputs": [
    {
     "name": "stderr",
     "output_type": "stream",
     "text": [
      "/var/folders/4_/b_ln9nlx3j19x_2nmv9t3rd40000gn/T/ipykernel_89268/1344393124.py:1: FutureWarning: The default of observed=False is deprecated and will be changed to True in a future version of pandas. Pass observed=False to retain current behavior or observed=True to adopt the future default and silence this warning.\n",
      "  patent_mean_byage = blueprinty.groupby('age_group')['patents'].mean()\n"
     ]
    },
    {
     "data": {
      "text/plain": [
       "age_group\n",
       "≤20      3.454277\n",
       "21–30    4.156695\n",
       "31–40    3.230769\n",
       "41–50    2.186047\n",
       ">50           NaN\n",
       "Name: patents, dtype: float64"
      ]
     },
     "execution_count": 20,
     "metadata": {},
     "output_type": "execute_result"
    }
   ],
   "source": [
    "patent_mean_byage = blueprinty.groupby('age_group')['patents'].mean()\n",
    "patent_mean_byage"
   ]
  },
  {
   "cell_type": "code",
   "execution_count": 27,
   "metadata": {},
   "outputs": [
    {
     "data": {
      "image/png": "[encoded data removed]",
      "text/plain": [
       "<Figure size 1200x400 with 2 Axes>"
      ]
     },
     "metadata": {},
     "output_type": "display_data"
    }
   ],
   "source": [
    "# 設定年齡分組（你可以依需要調整區間）\n",
    "blueprinty['age_group'] = pd.cut(blueprinty['age'], bins=[0, 20, 30, 40, 50, 100], \n",
    "                                 labels=['≤20', '21–30', '31–40', '41–50', '>50'])\n",
    "\n",
    "# 畫出直方圖，按「是否為客戶」分 Facet，並用不同年齡分組顯示\n",
    "g = sns.displot(\n",
    "    data=blueprinty,\n",
    "    x=\"patents\",\n",
    "    col=\"iscustomer\",        # 是否為客戶：0 or 1\n",
    "    # row=\"age_group\",         # 年齡分組\n",
    "    kind=\"hist\",\n",
    "    bins=30,\n",
    "    kde=True,\n",
    "    height=4,\n",
    "    aspect=1.5,\n",
    "    facet_kws={'margin_titles': True}\n",
    ")\n",
    "\n",
    "g.set_axis_labels(\"Number of Patents\", \"Count\")\n",
    "g.set_titles(col_template=\"Customer: {col_name}\")\n",
    "# g.set_titles(col_template=\"Customer: {col_name}\", row_template=\"Age Group: {row_name}\")\n",
    "plt.subplots_adjust(top=0.8)\n",
    "for ax in g.axes.flatten():\n",
    "    ax.tick_params(labelbottom=True)\n",
    "g.fig.suptitle(\"Patent Distribution by Customer Status\")\n",
    "plt.show()"
   ]
  },
  {
   "cell_type": "code",
   "execution_count": 35,
   "metadata": {},
   "outputs": [
    {
     "data": {
      "application/vnd.microsoft.datawrangler.viewer.v0+json": {
       "columns": [
        {
         "name": "iscustomer",
         "rawType": "int64",
         "type": "integer"
        },
        {
         "name": "Midwest",
         "rawType": "int64",
         "type": "integer"
        },
        {
         "name": "Northeast",
         "rawType": "int64",
         "type": "integer"
        },
        {
         "name": "Northwest",
         "rawType": "int64",
         "type": "integer"
        },
        {
         "name": "South",
         "rawType": "int64",
         "type": "integer"
        },
        {
         "name": "Southwest",
         "rawType": "int64",
         "type": "integer"
        }
       ],
       "conversionMethod": "pd.DataFrame",
       "ref": "a8b8951e-8b2d-4fe7-a5bb-6fdd383e6850",
       "rows": [
        [
         "0",
         "187",
         "273",
         "158",
         "156",
         "245"
        ],
        [
         "1",
         "37",
         "328",
         "29",
         "35",
         "52"
        ]
       ],
       "shape": {
        "columns": 5,
        "rows": 2
       }
      },
      "text/html": [
       "<div>\n",
       "<style scoped>\n",
       "    .dataframe tbody tr th:only-of-type {\n",
       "        vertical-align: middle;\n",
       "    }\n",
       "\n",
       "    .dataframe tbody tr th {\n",
       "        vertical-align: top;\n",
       "    }\n",
       "\n",
       "    .dataframe thead th {\n",
       "        text-align: right;\n",
       "    }\n",
       "</style>\n",
       "<table border=\"1\" class=\"dataframe\">\n",
       "  <thead>\n",
       "    <tr style=\"text-align: right;\">\n",
       "      <th>region</th>\n",
       "      <th>Midwest</th>\n",
       "      <th>Northeast</th>\n",
       "      <th>Northwest</th>\n",
       "      <th>South</th>\n",
       "      <th>Southwest</th>\n",
       "    </tr>\n",
       "    <tr>\n",
       "      <th>iscustomer</th>\n",
       "      <th></th>\n",
       "      <th></th>\n",
       "      <th></th>\n",
       "      <th></th>\n",
       "      <th></th>\n",
       "    </tr>\n",
       "  </thead>\n",
       "  <tbody>\n",
       "    <tr>\n",
       "      <th>0</th>\n",
       "      <td>187</td>\n",
       "      <td>273</td>\n",
       "      <td>158</td>\n",
       "      <td>156</td>\n",
       "      <td>245</td>\n",
       "    </tr>\n",
       "    <tr>\n",
       "      <th>1</th>\n",
       "      <td>37</td>\n",
       "      <td>328</td>\n",
       "      <td>29</td>\n",
       "      <td>35</td>\n",
       "      <td>52</td>\n",
       "    </tr>\n",
       "  </tbody>\n",
       "</table>\n",
       "</div>"
      ],
      "text/plain": [
       "region      Midwest  Northeast  Northwest  South  Southwest\n",
       "iscustomer                                                 \n",
       "0               187        273        158    156        245\n",
       "1                37        328         29     35         52"
      ]
     },
     "execution_count": 35,
     "metadata": {},
     "output_type": "execute_result"
    }
   ],
   "source": [
    "region_counts = blueprinty.groupby(['iscustomer', 'region']).size().unstack()\n",
    "region_counts"
   ]
  },
  {
   "cell_type": "code",
   "execution_count": 36,
   "metadata": {},
   "outputs": [
    {
     "data": {
      "image/png": "[encoded data removed]",
      "text/plain": [
       "<Figure size 640x480 with 1 Axes>"
      ]
     },
     "metadata": {},
     "output_type": "display_data"
    }
   ],
   "source": [
    "import seaborn as sns\n",
    "import matplotlib.pyplot as plt\n",
    "\n",
    "# 區域分布條形圖\n",
    "sns.countplot(data=blueprinty, x='region', hue='iscustomer',palette={0: \"lightgray\", 1: \"skyblue\"})\n",
    "plt.title('Region Distribution by Customer Status')\n",
    "plt.xticks(rotation=45)\n",
    "plt.show()"
   ]
  },
  {
   "cell_type": "code",
   "execution_count": 34,
   "metadata": {},
   "outputs": [
    {
     "data": {
      "image/png": "[encoded data removed]",
      "text/plain": [
       "<Figure size 640x480 with 1 Axes>"
      ]
     },
     "metadata": {},
     "output_type": "display_data"
    }
   ],
   "source": [
    "sns.countplot(data=blueprinty, x='age_group', hue='iscustomer',palette={0: \"lightgray\", 1: \"skyblue\"})\n",
    "plt.title('Age Distribution by Customer Status')\n",
    "plt.xticks(rotation=45)\n",
    "plt.show()"
   ]
  },
  {
   "cell_type": "code",
   "execution_count": 38,
   "metadata": {},
   "outputs": [],
   "source": [
    "import numpy as np\n",
    "from scipy.special import gammaln  # 更穩定地處理 log(Y!)\n",
    "\n",
    "def poisson_loglikelihood(lam, Y):\n",
    "    \"\"\"\n",
    "    計算 Poisson 模型的 log-likelihood。\n",
    "    \n",
    "    參數:\n",
    "    lam: float, Poisson 分布的 λ 參數（事件的平均發生率）\n",
    "    Y: array-like, 一組觀察到的計數資料\n",
    "    \n",
    "    回傳:\n",
    "    總對數概似值（log-likelihood）\n",
    "    \"\"\"\n",
    "    if lam <= 0:\n",
    "        return -np.inf  # λ 必須為正數，否則回傳負無限\n",
    "    \n",
    "    Y = np.asarray(Y)\n",
    "    log_likelihood = np.sum(-lam + Y * np.log(lam) - gammaln(Y + 1))\n",
    "    return log_likelihood"
   ]
  },
  {
   "cell_type": "code",
   "execution_count": 39,
   "metadata": {},
   "outputs": [
    {
     "data": {
      "image/png": "[encoded data removed]",
      "text/plain": [
       "<Figure size 800x500 with 1 Axes>"
      ]
     },
     "metadata": {},
     "output_type": "display_data"
    }
   ],
   "source": [
    "Y = blueprinty['patents']\n",
    "\n",
    "lambda_values = np.linspace(0.1, 10, 200)\n",
    "loglikelihood_values = [poisson_loglikelihood(lam, Y) for lam in lambda_values]\n",
    "\n",
    "plt.figure(figsize=(8, 5))\n",
    "plt.plot(lambda_values, loglikelihood_values)\n",
    "plt.xlabel(\"λ (Lambda)\")\n",
    "plt.ylabel(\"Log-Likelihood\")\n",
    "plt.title(\"Poisson Log-Likelihood as a Function of λ\")\n",
    "plt.grid(True)\n",
    "plt.show()"
   ]
  },
  {
   "cell_type": "code",
   "execution_count": 41,
   "metadata": {},
   "outputs": [
    {
     "name": "stdout",
     "output_type": "stream",
     "text": [
      "Estimated λ (MLE): 3.6846662261327716\n"
     ]
    }
   ],
   "source": [
    "from scipy.optimize import minimize_scalar\n",
    "\n",
    "# 目標函數要最大化，所以取 -loglikelihood 來做最小化\n",
    "objective = lambda lam: -poisson_loglikelihood(lam, blueprinty['patents'])\n",
    "\n",
    "result = minimize_scalar(objective, bounds=(0.1, 10), method='bounded')\n",
    "lambda_mle = result.x\n",
    "print(\"Estimated λ (MLE):\", lambda_mle)"
   ]
  },
  {
   "cell_type": "code",
   "execution_count": 60,
   "metadata": {},
   "outputs": [],
   "source": [
    "import numpy as np\n",
    "from scipy.special import gammaln\n",
    "\n",
    "def poisson_regression_loglikelihood(beta, Y, X):\n",
    "    \"\"\"\n",
    "    計算 Poisson 回歸模型的 log-likelihood。\n",
    "    \n",
    "    參數：\n",
    "    - beta: 係數向量 (一維 array)，長度為 X 的欄數\n",
    "    - Y: 觀察值向量（每家公司有幾個專利）\n",
    "    - X: 共變量矩陣（每列代表一家公司的特徵）\n",
    "\n",
    "    回傳：\n",
    "    - 總對數概似值（log-likelihood）\n",
    "    \"\"\"\n",
    "    beta = np.asarray(beta)\n",
    "    Y = np.asarray(Y)\n",
    "    X = np.asarray(X)\n",
    "\n",
    "    # 計算每家公司自己的 lambda_i = exp(X_i · beta)\n",
    "    lambda_i = np.exp(X @ beta)\n",
    "\n",
    "    # 套用 Poisson log-likelihood 函數\n",
    "    log_lik = np.sum(-lambda_i + Y * np.log(lambda_i) - gammaln(Y + 1))\n",
    "\n",
    "    return log_lik"
   ]
  },
  {
   "cell_type": "code",
   "execution_count": 75,
   "metadata": {},
   "outputs": [],
   "source": [
    "from scipy.optimize import minimize\n",
    "\n",
    "# 建立 age_squared 欄位\n",
    "blueprinty['age_squared'] = blueprinty['age'] ** 2\n",
    "\n",
    "# 建立 region dummy variables（drop_first=True 是為了避免 multicollinearity）\n",
    "region_dummies = pd.get_dummies(blueprinty['region'], drop_first=True)\n",
    "\n",
    "# 建立設計矩陣 X\n",
    "X = pd.concat([\n",
    "    pd.Series(1, index=blueprinty.index, name='intercept'),\n",
    "    blueprinty[['age', 'age_squared', 'iscustomer']],\n",
    "    region_dummies\n",
    "], axis=1)\n",
    "X = X.astype(float)\n",
    "# 目標變數 Y\n",
    "Y = blueprinty['patents'].values\n",
    "X_matrix = X.values"
   ]
  },
  {
   "cell_type": "code",
   "execution_count": 62,
   "metadata": {},
   "outputs": [
    {
     "data": {
      "text/plain": [
       "array([[1.00000e+00, 3.25000e+01, 1.05625e+03, ..., 0.00000e+00,\n",
       "        0.00000e+00, 0.00000e+00],\n",
       "       [1.00000e+00, 3.75000e+01, 1.40625e+03, ..., 0.00000e+00,\n",
       "        0.00000e+00, 1.00000e+00],\n",
       "       [1.00000e+00, 2.70000e+01, 7.29000e+02, ..., 1.00000e+00,\n",
       "        0.00000e+00, 0.00000e+00],\n",
       "       ...,\n",
       "       [1.00000e+00, 1.70000e+01, 2.89000e+02, ..., 0.00000e+00,\n",
       "        0.00000e+00, 1.00000e+00],\n",
       "       [1.00000e+00, 2.90000e+01, 8.41000e+02, ..., 0.00000e+00,\n",
       "        1.00000e+00, 0.00000e+00],\n",
       "       [1.00000e+00, 3.90000e+01, 1.52100e+03, ..., 0.00000e+00,\n",
       "        1.00000e+00, 0.00000e+00]])"
      ]
     },
     "execution_count": 62,
     "metadata": {},
     "output_type": "execute_result"
    }
   ],
   "source": [
    "X_matrix"
   ]
  },
  {
   "cell_type": "code",
   "execution_count": 63,
   "metadata": {},
   "outputs": [
    {
     "name": "stderr",
     "output_type": "stream",
     "text": [
      "/var/folders/4_/b_ln9nlx3j19x_2nmv9t3rd40000gn/T/ipykernel_89268/3261295856.py:21: RuntimeWarning: overflow encountered in exp\n",
      "  lambda_i = np.exp(X @ beta)\n",
      "/var/folders/4_/b_ln9nlx3j19x_2nmv9t3rd40000gn/T/ipykernel_89268/3261295856.py:24: RuntimeWarning: invalid value encountered in multiply\n",
      "  log_lik = np.sum(-lambda_i + Y * np.log(lambda_i) - gammaln(Y + 1))\n",
      "/var/folders/4_/b_ln9nlx3j19x_2nmv9t3rd40000gn/T/ipykernel_89268/3261295856.py:24: RuntimeWarning: invalid value encountered in add\n",
      "  log_lik = np.sum(-lambda_i + Y * np.log(lambda_i) - gammaln(Y + 1))\n",
      "/Users/murphy_aloe/Library/Python/3.9/lib/python/site-packages/numpy/core/fromnumeric.py:88: RuntimeWarning: overflow encountered in reduce\n",
      "  return ufunc.reduce(obj, axis, dtype, out, **passkwargs)\n",
      "/var/folders/4_/b_ln9nlx3j19x_2nmv9t3rd40000gn/T/ipykernel_89268/3261295856.py:21: RuntimeWarning: overflow encountered in exp\n",
      "  lambda_i = np.exp(X @ beta)\n",
      "/var/folders/4_/b_ln9nlx3j19x_2nmv9t3rd40000gn/T/ipykernel_89268/3261295856.py:24: RuntimeWarning: invalid value encountered in multiply\n",
      "  log_lik = np.sum(-lambda_i + Y * np.log(lambda_i) - gammaln(Y + 1))\n",
      "/var/folders/4_/b_ln9nlx3j19x_2nmv9t3rd40000gn/T/ipykernel_89268/3261295856.py:24: RuntimeWarning: invalid value encountered in add\n",
      "  log_lik = np.sum(-lambda_i + Y * np.log(lambda_i) - gammaln(Y + 1))\n",
      "/Users/murphy_aloe/Library/Python/3.9/lib/python/site-packages/numpy/core/fromnumeric.py:88: RuntimeWarning: overflow encountered in reduce\n",
      "  return ufunc.reduce(obj, axis, dtype, out, **passkwargs)\n",
      "/var/folders/4_/b_ln9nlx3j19x_2nmv9t3rd40000gn/T/ipykernel_89268/3261295856.py:21: RuntimeWarning: overflow encountered in exp\n",
      "  lambda_i = np.exp(X @ beta)\n",
      "/var/folders/4_/b_ln9nlx3j19x_2nmv9t3rd40000gn/T/ipykernel_89268/3261295856.py:24: RuntimeWarning: invalid value encountered in multiply\n",
      "  log_lik = np.sum(-lambda_i + Y * np.log(lambda_i) - gammaln(Y + 1))\n",
      "/var/folders/4_/b_ln9nlx3j19x_2nmv9t3rd40000gn/T/ipykernel_89268/3261295856.py:24: RuntimeWarning: invalid value encountered in add\n",
      "  log_lik = np.sum(-lambda_i + Y * np.log(lambda_i) - gammaln(Y + 1))\n"
     ]
    }
   ],
   "source": [
    "# 初始值設定為 0 向量\n",
    "init_beta = np.zeros(X_matrix.shape[1])\n",
    "\n",
    "# 改用明確傳參方式\n",
    "result = minimize(\n",
    "    fun=lambda beta: -poisson_regression_loglikelihood(beta, Y, X_matrix),\n",
    "    x0=init_beta,\n",
    "    method='BFGS'\n",
    ")\n",
    "# 取出估計值與標準誤\n",
    "beta_hat = result.x\n",
    "hessian_inv = result.hess_inv  # Hessian 反矩陣（共變異數矩陣）\n",
    "standard_errors = np.sqrt(np.diag(hessian_inv))"
   ]
  },
  {
   "cell_type": "code",
   "execution_count": 64,
   "metadata": {},
   "outputs": [
    {
     "name": "stdout",
     "output_type": "stream",
     "text": [
      "      Variable  Coefficient (β)  Std. Error\n",
      "0    intercept         1.480059         1.0\n",
      "1          age        38.016417         1.0\n",
      "2  age_squared      1033.539585         1.0\n",
      "3   iscustomer         0.553874         1.0\n",
      "4    Northeast         0.640979         1.0\n",
      "5    Northwest         0.164288         1.0\n",
      "6        South         0.181562         1.0\n",
      "7    Southwest         0.295497         1.0\n"
     ]
    }
   ],
   "source": [
    "# 整理係數與標準誤\n",
    "summary_table = pd.DataFrame({\n",
    "    'Variable': X.columns,\n",
    "    'Coefficient (β)': beta_hat,\n",
    "    'Std. Error': standard_errors\n",
    "})\n",
    "print(summary_table)"
   ]
  },
  {
   "cell_type": "code",
   "execution_count": 72,
   "metadata": {},
   "outputs": [
    {
     "data": {
      "application/vnd.microsoft.datawrangler.viewer.v0+json": {
       "columns": [
        {
         "name": "index",
         "rawType": "int64",
         "type": "integer"
        },
        {
         "name": "Variable",
         "rawType": "object",
         "type": "string"
        },
        {
         "name": "Coefficient (β)",
         "rawType": "float64",
         "type": "float"
        },
        {
         "name": "Std. Error",
         "rawType": "float64",
         "type": "float"
        }
       ],
       "conversionMethod": "pd.DataFrame",
       "ref": "c0406235-e601-4c20-af30-99aadfb01cb7",
       "rows": [
        [
         "0",
         "intercept",
         "-0.5099915699812435",
         "0.19397077241157026"
        ],
        [
         "1",
         "age",
         "0.14870558364152123",
         "0.015329310764276276"
        ],
        [
         "2",
         "age_squared",
         "-0.0029720960555172744",
         "0.0002905816207777677"
        ],
        [
         "3",
         "iscustomer",
         "0.20760925119906723",
         "0.028616427523812955"
        ],
        [
         "4",
         "Northeast",
         "0.029155129530892332",
         "0.032639573856744424"
        ],
        [
         "5",
         "Northwest",
         "-0.01757759064474941",
         "0.02500413523125552"
        ],
        [
         "6",
         "South",
         "0.056565326644019365",
         "0.02500413361575424"
        ],
        [
         "7",
         "Southwest",
         "0.05056737377388712",
         "0.038745442016471225"
        ]
       ],
       "shape": {
        "columns": 3,
        "rows": 8
       }
      },
      "text/html": [
       "<div>\n",
       "<style scoped>\n",
       "    .dataframe tbody tr th:only-of-type {\n",
       "        vertical-align: middle;\n",
       "    }\n",
       "\n",
       "    .dataframe tbody tr th {\n",
       "        vertical-align: top;\n",
       "    }\n",
       "\n",
       "    .dataframe thead th {\n",
       "        text-align: right;\n",
       "    }\n",
       "</style>\n",
       "<table border=\"1\" class=\"dataframe\">\n",
       "  <thead>\n",
       "    <tr style=\"text-align: right;\">\n",
       "      <th></th>\n",
       "      <th>Variable</th>\n",
       "      <th>Coefficient (β)</th>\n",
       "      <th>Std. Error</th>\n",
       "    </tr>\n",
       "  </thead>\n",
       "  <tbody>\n",
       "    <tr>\n",
       "      <th>0</th>\n",
       "      <td>intercept</td>\n",
       "      <td>-0.509992</td>\n",
       "      <td>0.193971</td>\n",
       "    </tr>\n",
       "    <tr>\n",
       "      <th>1</th>\n",
       "      <td>age</td>\n",
       "      <td>0.148706</td>\n",
       "      <td>0.015329</td>\n",
       "    </tr>\n",
       "    <tr>\n",
       "      <th>2</th>\n",
       "      <td>age_squared</td>\n",
       "      <td>-0.002972</td>\n",
       "      <td>0.000291</td>\n",
       "    </tr>\n",
       "    <tr>\n",
       "      <th>3</th>\n",
       "      <td>iscustomer</td>\n",
       "      <td>0.207609</td>\n",
       "      <td>0.028616</td>\n",
       "    </tr>\n",
       "    <tr>\n",
       "      <th>4</th>\n",
       "      <td>Northeast</td>\n",
       "      <td>0.029155</td>\n",
       "      <td>0.032640</td>\n",
       "    </tr>\n",
       "    <tr>\n",
       "      <th>5</th>\n",
       "      <td>Northwest</td>\n",
       "      <td>-0.017578</td>\n",
       "      <td>0.025004</td>\n",
       "    </tr>\n",
       "    <tr>\n",
       "      <th>6</th>\n",
       "      <td>South</td>\n",
       "      <td>0.056565</td>\n",
       "      <td>0.025004</td>\n",
       "    </tr>\n",
       "    <tr>\n",
       "      <th>7</th>\n",
       "      <td>Southwest</td>\n",
       "      <td>0.050567</td>\n",
       "      <td>0.038745</td>\n",
       "    </tr>\n",
       "  </tbody>\n",
       "</table>\n",
       "</div>"
      ],
      "text/plain": [
       "      Variable  Coefficient (β)  Std. Error\n",
       "0    intercept        -0.509992    0.193971\n",
       "1          age         0.148706    0.015329\n",
       "2  age_squared        -0.002972    0.000291\n",
       "3   iscustomer         0.207609    0.028616\n",
       "4    Northeast         0.029155    0.032640\n",
       "5    Northwest        -0.017578    0.025004\n",
       "6        South         0.056565    0.025004\n",
       "7    Southwest         0.050567    0.038745"
      ]
     },
     "execution_count": 72,
     "metadata": {},
     "output_type": "execute_result"
    }
   ],
   "source": [
    "# Build design matrix\n",
    "def poisson_regression_loglikelihood(beta, Y, X):\n",
    "    eta = X @ beta\n",
    "    eta = np.clip(eta, -100, 100)\n",
    "    lambda_i = np.exp(eta)\n",
    "\n",
    "    # 使用 where 保底防止 log(0)；同時限制 lambda_i 不為無限大\n",
    "    log_lik = np.sum(-lambda_i + Y * eta - gammaln(Y + 1))\n",
    "    return log_lik\n",
    "\n",
    "blueprinty['age_squared'] = blueprinty['age'] ** 2\n",
    "X = pd.concat([\n",
    "    pd.Series(1.0, index=blueprinty.index, name='intercept'),\n",
    "    blueprinty[['age', 'age_squared', 'iscustomer']],\n",
    "    pd.get_dummies(blueprinty['region'], drop_first=True)\n",
    "], axis=1)\n",
    "X_matrix = X.astype(float).values\n",
    "Y = blueprinty['patents'].values\n",
    "\n",
    "# Maximize log-likelihood\n",
    "init_beta = np.zeros(X_matrix.shape[1])\n",
    "result = minimize(\n",
    "    fun=lambda beta: -poisson_regression_loglikelihood(beta, Y, X_matrix),\n",
    "    x0=init_beta,\n",
    "    method='BFGS'\n",
    ")\n",
    "\n",
    "# Extract estimates\n",
    "beta_hat = result.x\n",
    "hessian_inv = result.hess_inv\n",
    "standard_errors = np.sqrt(np.diag(hessian_inv))\n",
    "summary_table = pd.DataFrame({\n",
    "    'Variable': X.columns,\n",
    "    'Coefficient (β)': beta_hat,\n",
    "    'Std. Error': standard_errors\n",
    "})\n",
    "summary_table"
   ]
  },
  {
   "cell_type": "code",
   "execution_count": 76,
   "metadata": {},
   "outputs": [
    {
     "name": "stdout",
     "output_type": "stream",
     "text": [
      "                 Generalized Linear Model Regression Results                  \n",
      "==============================================================================\n",
      "Dep. Variable:                      y   No. Observations:                 1500\n",
      "Model:                            GLM   Df Residuals:                     1492\n",
      "Model Family:                 Poisson   Df Model:                            7\n",
      "Link Function:                    Log   Scale:                          1.0000\n",
      "Method:                          IRLS   Log-Likelihood:                -3258.1\n",
      "Date:                Fri, 02 May 2025   Deviance:                       2143.3\n",
      "Time:                        04:07:41   Pearson chi2:                 2.07e+03\n",
      "No. Iterations:                     5   Pseudo R-squ. (CS):             0.1360\n",
      "Covariance Type:            nonrobust                                         \n",
      "===============================================================================\n",
      "                  coef    std err          z      P>|z|      [0.025      0.975]\n",
      "-------------------------------------------------------------------------------\n",
      "intercept      -0.5089      0.183     -2.778      0.005      -0.868      -0.150\n",
      "age             0.1486      0.014     10.716      0.000       0.121       0.176\n",
      "age_squared    -0.0030      0.000    -11.513      0.000      -0.003      -0.002\n",
      "iscustomer      0.2076      0.031      6.719      0.000       0.147       0.268\n",
      "Northeast       0.0292      0.044      0.669      0.504      -0.056       0.115\n",
      "Northwest      -0.0176      0.054     -0.327      0.744      -0.123       0.088\n",
      "South           0.0566      0.053      1.074      0.283      -0.047       0.160\n",
      "Southwest       0.0506      0.047      1.072      0.284      -0.042       0.143\n",
      "===============================================================================\n"
     ]
    }
   ],
   "source": [
    "import statsmodels.api as sm\n",
    "\n",
    "model = sm.GLM(Y, X, family=sm.families.Poisson())\n",
    "result = model.fit()\n",
    "\n",
    "# 顯示完整結果\n",
    "print(result.summary())"
   ]
  },
  {
   "cell_type": "code",
   "execution_count": 66,
   "metadata": {},
   "outputs": [
    {
     "data": {
      "text/plain": [
       "Index(['intercept', 'age', 'age_squared', 'iscustomer', 'Northeast',\n",
       "       'Northwest', 'South', 'Southwest'],\n",
       "      dtype='object')"
      ]
     },
     "execution_count": 66,
     "metadata": {},
     "output_type": "execute_result"
    }
   ],
   "source": [
    "X.columns"
   ]
  },
  {
   "cell_type": "code",
   "execution_count": 77,
   "metadata": {},
   "outputs": [
    {
     "name": "stdout",
     "output_type": "stream",
     "text": [
      "Average expected increase in patents: 0.7927680710452626\n"
     ]
    }
   ],
   "source": [
    "X_0 = X.copy()\n",
    "X_1 = X.copy()\n",
    "X_0['iscustomer'] = 0\n",
    "X_1['iscustomer'] = 1\n",
    "\n",
    "y_pred_0 = result.predict(X_0)\n",
    "y_pred_1 = result.predict(X_1)\n",
    "\n",
    "average_effect = np.mean(y_pred_1 - y_pred_0)\n",
    "print(\"Average expected increase in patents:\", average_effect)"
   ]
  },
  {
   "cell_type": "code",
   "execution_count": 79,
   "metadata": {},
   "outputs": [
    {
     "data": {
      "application/vnd.microsoft.datawrangler.viewer.v0+json": {
       "columns": [
        {
         "name": "index",
         "rawType": "int64",
         "type": "integer"
        },
        {
         "name": "Unnamed: 0",
         "rawType": "int64",
         "type": "integer"
        },
        {
         "name": "id",
         "rawType": "int64",
         "type": "integer"
        },
        {
         "name": "days",
         "rawType": "int64",
         "type": "integer"
        },
        {
         "name": "last_scraped",
         "rawType": "object",
         "type": "string"
        },
        {
         "name": "host_since",
         "rawType": "object",
         "type": "string"
        },
        {
         "name": "room_type",
         "rawType": "object",
         "type": "string"
        },
        {
         "name": "bathrooms",
         "rawType": "float64",
         "type": "float"
        },
        {
         "name": "bedrooms",
         "rawType": "float64",
         "type": "float"
        },
        {
         "name": "price",
         "rawType": "int64",
         "type": "integer"
        },
        {
         "name": "number_of_reviews",
         "rawType": "int64",
         "type": "integer"
        },
        {
         "name": "review_scores_cleanliness",
         "rawType": "float64",
         "type": "float"
        },
        {
         "name": "review_scores_location",
         "rawType": "float64",
         "type": "float"
        },
        {
         "name": "review_scores_value",
         "rawType": "float64",
         "type": "float"
        },
        {
         "name": "instant_bookable",
         "rawType": "object",
         "type": "string"
        }
       ],
       "conversionMethod": "pd.DataFrame",
       "ref": "c1a57ddf-e2cf-494d-b855-59721e11feca",
       "rows": [
        [
         "0",
         "1",
         "2515",
         "3130",
         "4/2/2017",
         "9/6/2008",
         "Private room",
         "1.0",
         "1.0",
         "59",
         "150",
         "9.0",
         "9.0",
         "9.0",
         "f"
        ],
        [
         "1",
         "2",
         "2595",
         "3127",
         "4/2/2017",
         "9/9/2008",
         "Entire home/apt",
         "1.0",
         "0.0",
         "230",
         "20",
         "9.0",
         "10.0",
         "9.0",
         "f"
        ],
        [
         "2",
         "3",
         "3647",
         "3050",
         "4/2/2017",
         "11/25/2008",
         "Private room",
         "1.0",
         "1.0",
         "150",
         "0",
         null,
         null,
         null,
         "f"
        ],
        [
         "3",
         "4",
         "3831",
         "3038",
         "4/2/2017",
         "12/7/2008",
         "Entire home/apt",
         "1.0",
         "1.0",
         "89",
         "116",
         "9.0",
         "9.0",
         "9.0",
         "f"
        ],
        [
         "4",
         "5",
         "4611",
         "3012",
         "4/2/2017",
         "1/2/2009",
         "Private room",
         null,
         "1.0",
         "39",
         "93",
         "9.0",
         "8.0",
         "9.0",
         "t"
        ]
       ],
       "shape": {
        "columns": 14,
        "rows": 5
       }
      },
      "text/html": [
       "<div>\n",
       "<style scoped>\n",
       "    .dataframe tbody tr th:only-of-type {\n",
       "        vertical-align: middle;\n",
       "    }\n",
       "\n",
       "    .dataframe tbody tr th {\n",
       "        vertical-align: top;\n",
       "    }\n",
       "\n",
       "    .dataframe thead th {\n",
       "        text-align: right;\n",
       "    }\n",
       "</style>\n",
       "<table border=\"1\" class=\"dataframe\">\n",
       "  <thead>\n",
       "    <tr style=\"text-align: right;\">\n",
       "      <th></th>\n",
       "      <th>Unnamed: 0</th>\n",
       "      <th>id</th>\n",
       "      <th>days</th>\n",
       "      <th>last_scraped</th>\n",
       "      <th>host_since</th>\n",
       "      <th>room_type</th>\n",
       "      <th>bathrooms</th>\n",
       "      <th>bedrooms</th>\n",
       "      <th>price</th>\n",
       "      <th>number_of_reviews</th>\n",
       "      <th>review_scores_cleanliness</th>\n",
       "      <th>review_scores_location</th>\n",
       "      <th>review_scores_value</th>\n",
       "      <th>instant_bookable</th>\n",
       "    </tr>\n",
       "  </thead>\n",
       "  <tbody>\n",
       "    <tr>\n",
       "      <th>0</th>\n",
       "      <td>1</td>\n",
       "      <td>2515</td>\n",
       "      <td>3130</td>\n",
       "      <td>4/2/2017</td>\n",
       "      <td>9/6/2008</td>\n",
       "      <td>Private room</td>\n",
       "      <td>1.0</td>\n",
       "      <td>1.0</td>\n",
       "      <td>59</td>\n",
       "      <td>150</td>\n",
       "      <td>9.0</td>\n",
       "      <td>9.0</td>\n",
       "      <td>9.0</td>\n",
       "      <td>f</td>\n",
       "    </tr>\n",
       "    <tr>\n",
       "      <th>1</th>\n",
       "      <td>2</td>\n",
       "      <td>2595</td>\n",
       "      <td>3127</td>\n",
       "      <td>4/2/2017</td>\n",
       "      <td>9/9/2008</td>\n",
       "      <td>Entire home/apt</td>\n",
       "      <td>1.0</td>\n",
       "      <td>0.0</td>\n",
       "      <td>230</td>\n",
       "      <td>20</td>\n",
       "      <td>9.0</td>\n",
       "      <td>10.0</td>\n",
       "      <td>9.0</td>\n",
       "      <td>f</td>\n",
       "    </tr>\n",
       "    <tr>\n",
       "      <th>2</th>\n",
       "      <td>3</td>\n",
       "      <td>3647</td>\n",
       "      <td>3050</td>\n",
       "      <td>4/2/2017</td>\n",
       "      <td>11/25/2008</td>\n",
       "      <td>Private room</td>\n",
       "      <td>1.0</td>\n",
       "      <td>1.0</td>\n",
       "      <td>150</td>\n",
       "      <td>0</td>\n",
       "      <td>NaN</td>\n",
       "      <td>NaN</td>\n",
       "      <td>NaN</td>\n",
       "      <td>f</td>\n",
       "    </tr>\n",
       "    <tr>\n",
       "      <th>3</th>\n",
       "      <td>4</td>\n",
       "      <td>3831</td>\n",
       "      <td>3038</td>\n",
       "      <td>4/2/2017</td>\n",
       "      <td>12/7/2008</td>\n",
       "      <td>Entire home/apt</td>\n",
       "      <td>1.0</td>\n",
       "      <td>1.0</td>\n",
       "      <td>89</td>\n",
       "      <td>116</td>\n",
       "      <td>9.0</td>\n",
       "      <td>9.0</td>\n",
       "      <td>9.0</td>\n",
       "      <td>f</td>\n",
       "    </tr>\n",
       "    <tr>\n",
       "      <th>4</th>\n",
       "      <td>5</td>\n",
       "      <td>4611</td>\n",
       "      <td>3012</td>\n",
       "      <td>4/2/2017</td>\n",
       "      <td>1/2/2009</td>\n",
       "      <td>Private room</td>\n",
       "      <td>NaN</td>\n",
       "      <td>1.0</td>\n",
       "      <td>39</td>\n",
       "      <td>93</td>\n",
       "      <td>9.0</td>\n",
       "      <td>8.0</td>\n",
       "      <td>9.0</td>\n",
       "      <td>t</td>\n",
       "    </tr>\n",
       "  </tbody>\n",
       "</table>\n",
       "</div>"
      ],
      "text/plain": [
       "   Unnamed: 0    id  days last_scraped  host_since        room_type  \\\n",
       "0           1  2515  3130     4/2/2017    9/6/2008     Private room   \n",
       "1           2  2595  3127     4/2/2017    9/9/2008  Entire home/apt   \n",
       "2           3  3647  3050     4/2/2017  11/25/2008     Private room   \n",
       "3           4  3831  3038     4/2/2017   12/7/2008  Entire home/apt   \n",
       "4           5  4611  3012     4/2/2017    1/2/2009     Private room   \n",
       "\n",
       "   bathrooms  bedrooms  price  number_of_reviews  review_scores_cleanliness  \\\n",
       "0        1.0       1.0     59                150                        9.0   \n",
       "1        1.0       0.0    230                 20                        9.0   \n",
       "2        1.0       1.0    150                  0                        NaN   \n",
       "3        1.0       1.0     89                116                        9.0   \n",
       "4        NaN       1.0     39                 93                        9.0   \n",
       "\n",
       "   review_scores_location  review_scores_value instant_bookable  \n",
       "0                     9.0                  9.0                f  \n",
       "1                    10.0                  9.0                f  \n",
       "2                     NaN                  NaN                f  \n",
       "3                     9.0                  9.0                f  \n",
       "4                     8.0                  9.0                t  "
      ]
     },
     "execution_count": 79,
     "metadata": {},
     "output_type": "execute_result"
    }
   ],
   "source": [
    "airbnb.head()"
   ]
  }
 ],
 "metadata": {
  "kernelspec": {
   "display_name": "Python 3",
   "language": "python",
   "name": "python3"
  },
  "language_info": {
   "codemirror_mode": {
    "name": "ipython",
    "version": 3
   },
   "file_extension": ".py",
   "mimetype": "text/x-python",
   "name": "python",
   "nbconvert_exporter": "python",
   "pygments_lexer": "ipython3",
   "version": "3.9.6"
  }
 },
 "nbformat": 4,
 "nbformat_minor": 2
}
